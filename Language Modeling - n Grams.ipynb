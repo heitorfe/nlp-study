{
 "cells": [
  {
   "cell_type": "code",
   "execution_count": 1,
   "id": "7e349bc1",
   "metadata": {
    "ExecuteTime": {
     "end_time": "2023-06-06T09:37:55.075511Z",
     "start_time": "2023-06-06T09:37:48.249562Z"
    }
   },
   "outputs": [],
   "source": [
    "import spacy\n",
    "import numpy as np\n",
    "import re\n",
    "\n",
    "nlp = spacy.load('en_core_web_sm')"
   ]
  },
  {
   "cell_type": "code",
   "execution_count": 2,
   "id": "1cd6f3ab",
   "metadata": {
    "ExecuteTime": {
     "end_time": "2023-06-06T09:42:39.898108Z",
     "start_time": "2023-06-06T09:42:39.890222Z"
    }
   },
   "outputs": [],
   "source": [
    "def nGrams(doc_string_or_list, n, docIsAlreadyTokenized):\n",
    "    doc = doc_string_or_list\n",
    "    if not docIsAlreadyTokenized:\n",
    "        doc = [token.text for token in nlp(doc_string_or_list)]\n",
    "    \n",
    "    doc = [word.lower() for word in doc]\n",
    "    grams = [doc[i:i+n] for i in range(len(doc)-n+1)]\n",
    "    return grams\n",
    "    "
   ]
  },
  {
   "cell_type": "code",
   "execution_count": 10,
   "id": "96296c30",
   "metadata": {
    "ExecuteTime": {
     "end_time": "2023-06-06T09:44:11.375139Z",
     "start_time": "2023-06-06T09:44:11.350408Z"
    }
   },
   "outputs": [],
   "source": [
    "doc = 'How old are you today or can you tell me somthing about you?'\n",
    "n = 3\n",
    "grams = nGrams(doc, n, False)"
   ]
  },
  {
   "cell_type": "code",
   "execution_count": 11,
   "id": "55ba9c8c",
   "metadata": {
    "ExecuteTime": {
     "end_time": "2023-06-06T09:44:12.976694Z",
     "start_time": "2023-06-06T09:44:12.959414Z"
    }
   },
   "outputs": [
    {
     "name": "stdout",
     "output_type": "stream",
     "text": [
      "[['how', 'old', 'are'], ['old', 'are', 'you'], ['are', 'you', 'today'], ['you', 'today', 'or'], ['today', 'or', 'can'], ['or', 'can', 'you'], ['can', 'you', 'tell'], ['you', 'tell', 'me'], ['tell', 'me', 'somthing'], ['me', 'somthing', 'about'], ['somthing', 'about', 'you'], ['about', 'you', '?']]\n"
     ]
    }
   ],
   "source": [
    "print(grams)"
   ]
  },
  {
   "cell_type": "code",
   "execution_count": 13,
   "id": "25759525",
   "metadata": {
    "ExecuteTime": {
     "end_time": "2023-06-06T09:46:25.869291Z",
     "start_time": "2023-06-06T09:46:25.855928Z"
    }
   },
   "outputs": [],
   "source": [
    "from collections import defaultdict"
   ]
  },
  {
   "cell_type": "code",
   "execution_count": 18,
   "id": "e44e8a5a",
   "metadata": {
    "ExecuteTime": {
     "end_time": "2023-06-06T09:47:36.575336Z",
     "start_time": "2023-06-06T09:47:36.560351Z"
    }
   },
   "outputs": [],
   "source": [
    "def buildModel():\n",
    "    model = defaultdict(lambda: defaultdict(lambda : 0))\n",
    "    return model"
   ]
  },
  {
   "cell_type": "code",
   "execution_count": 20,
   "id": "416f8c8f",
   "metadata": {
    "ExecuteTime": {
     "end_time": "2023-06-06T09:50:40.774729Z",
     "start_time": "2023-06-06T09:50:40.756700Z"
    }
   },
   "outputs": [],
   "source": [
    "def updateCount(nGram, model):\n",
    "    w_1_to_n_minus_1 = tuple(nGram[:-1])\n",
    "    w_n = nGram[-1]\n",
    "    model[w_1_to_n_minus_1][w_n] += 1\n",
    "    return model"
   ]
  },
  {
   "cell_type": "code",
   "execution_count": 22,
   "id": "bde0c8aa",
   "metadata": {
    "ExecuteTime": {
     "end_time": "2023-06-06T09:53:10.875341Z",
     "start_time": "2023-06-06T09:53:10.867330Z"
    }
   },
   "outputs": [],
   "source": [
    "def computeProbability(model):\n",
    "    for w_1_to_n_minus_1 in model:\n",
    "        totalCount = float(sum(model[w_1_to_n_minus_1].values()))\n",
    "        for w_n in model[w_1_to_n_minus_1]:\n",
    "            model[w_1_to_n_minus_1][w_n] /= totalCount\n",
    "    return model"
   ]
  },
  {
   "cell_type": "code",
   "execution_count": 23,
   "id": "11ad7599",
   "metadata": {
    "ExecuteTime": {
     "end_time": "2023-06-06T09:55:15.274762Z",
     "start_time": "2023-06-06T09:55:15.262250Z"
    }
   },
   "outputs": [],
   "source": [
    "import dill"
   ]
  },
  {
   "cell_type": "code",
   "execution_count": 24,
   "id": "b3e82ad7",
   "metadata": {
    "ExecuteTime": {
     "end_time": "2023-06-06T09:56:55.138145Z",
     "start_time": "2023-06-06T09:56:55.120036Z"
    }
   },
   "outputs": [],
   "source": [
    "def saveModel(model, fileNameDotPkl):\n",
    "    with open(fileNameDotPkl, 'wb') as f:\n",
    "        dill.dump(model, f)\n",
    "        \n",
    "def loadModel(model, fileNameDotPkl):\n",
    "    with open(fileNameDotPkl, 'rb') as f:\n",
    "        model = dill.load(f)\n",
    "    return model"
   ]
  },
  {
   "cell_type": "code",
   "execution_count": null,
   "id": "4c29f64f",
   "metadata": {},
   "outputs": [],
   "source": []
  }
 ],
 "metadata": {
  "kernelspec": {
   "display_name": "Python 3 (ipykernel)",
   "language": "python",
   "name": "python3"
  },
  "language_info": {
   "codemirror_mode": {
    "name": "ipython",
    "version": 3
   },
   "file_extension": ".py",
   "mimetype": "text/x-python",
   "name": "python",
   "nbconvert_exporter": "python",
   "pygments_lexer": "ipython3",
   "version": "3.9.13"
  }
 },
 "nbformat": 4,
 "nbformat_minor": 5
}
