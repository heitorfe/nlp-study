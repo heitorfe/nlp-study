{
 "cells": [
  {
   "cell_type": "code",
   "execution_count": 1,
   "id": "e6da0ed8",
   "metadata": {
    "ExecuteTime": {
     "end_time": "2023-06-06T09:37:55.075511Z",
     "start_time": "2023-06-06T09:37:48.249562Z"
    }
   },
   "outputs": [],
   "source": [
    "import spacy\n",
    "import numpy as np\n",
    "import re\n",
    "\n",
    "nlp = spacy.load('en_core_web_sm')"
   ]
  },
  {
   "cell_type": "code",
   "execution_count": 2,
   "id": "46b1f148",
   "metadata": {
    "ExecuteTime": {
     "end_time": "2023-06-06T09:42:39.898108Z",
     "start_time": "2023-06-06T09:42:39.890222Z"
    }
   },
   "outputs": [],
   "source": [
    "def nGrams(doc_string_or_list, n, docIsAlreadyTokenized):\n",
    "    doc = doc_string_or_list\n",
    "    if not docIsAlreadyTokenized:\n",
    "        doc = [token.text for token in nlp(doc_string_or_list)]\n",
    "    \n",
    "    doc = [word.lower() for word in doc]\n",
    "    grams = [doc[i:i+n] for i in range(len(doc)-n+1)]\n",
    "    return grams\n",
    "    "
   ]
  },
  {
   "cell_type": "code",
   "execution_count": 10,
   "id": "e0798bf5",
   "metadata": {
    "ExecuteTime": {
     "end_time": "2023-06-06T09:44:11.375139Z",
     "start_time": "2023-06-06T09:44:11.350408Z"
    }
   },
   "outputs": [],
   "source": [
    "doc = 'How old are you today or can you tell me somthing about you?'\n",
    "n = 3\n",
    "grams = nGrams(doc, n, False)"
   ]
  },
  {
   "cell_type": "code",
   "execution_count": 11,
   "id": "ab5bb745",
   "metadata": {
    "ExecuteTime": {
     "end_time": "2023-06-06T09:44:12.976694Z",
     "start_time": "2023-06-06T09:44:12.959414Z"
    }
   },
   "outputs": [
    {
     "name": "stdout",
     "output_type": "stream",
     "text": [
      "[['how', 'old', 'are'], ['old', 'are', 'you'], ['are', 'you', 'today'], ['you', 'today', 'or'], ['today', 'or', 'can'], ['or', 'can', 'you'], ['can', 'you', 'tell'], ['you', 'tell', 'me'], ['tell', 'me', 'somthing'], ['me', 'somthing', 'about'], ['somthing', 'about', 'you'], ['about', 'you', '?']]\n"
     ]
    }
   ],
   "source": [
    "print(grams)"
   ]
  },
  {
   "cell_type": "code",
   "execution_count": 13,
   "id": "e48e52ae",
   "metadata": {
    "ExecuteTime": {
     "end_time": "2023-06-06T09:46:25.869291Z",
     "start_time": "2023-06-06T09:46:25.855928Z"
    }
   },
   "outputs": [],
   "source": [
    "from collections import defaultdict"
   ]
  },
  {
   "cell_type": "code",
   "execution_count": 18,
   "id": "eb7b89a3",
   "metadata": {
    "ExecuteTime": {
     "end_time": "2023-06-06T09:47:36.575336Z",
     "start_time": "2023-06-06T09:47:36.560351Z"
    }
   },
   "outputs": [],
   "source": [
    "def buildModel():\n",
    "    model = defaultdict(lambda: defaultdict(lambda : 0))\n",
    "    return model"
   ]
  },
  {
   "cell_type": "code",
   "execution_count": 48,
   "id": "0fe5b880",
   "metadata": {
    "ExecuteTime": {
     "end_time": "2023-06-06T10:23:15.901898Z",
     "start_time": "2023-06-06T10:23:15.886939Z"
    }
   },
   "outputs": [],
   "source": [
    "def updateCount(nGram, model):\n",
    "    w_1_to_n_minus_1 = tuple(nGram[:-1])\n",
    "    w_n = nGram[-1]\n",
    "    model[w_1_to_n_minus_1][w_n] += 1\n",
    "    return model"
   ]
  },
  {
   "cell_type": "code",
   "execution_count": 49,
   "id": "7d47f541",
   "metadata": {
    "ExecuteTime": {
     "end_time": "2023-06-06T10:23:16.075224Z",
     "start_time": "2023-06-06T10:23:16.062412Z"
    }
   },
   "outputs": [],
   "source": [
    "def computeProbability(model):\n",
    "    for w_1_to_n_minus_1 in model:\n",
    "        totalCount = float(sum(model[w_1_to_n_minus_1].values()))\n",
    "        for w_n in model[w_1_to_n_minus_1]:\n",
    "            model[w_1_to_n_minus_1][w_n] /= totalCount\n",
    "    return model"
   ]
  },
  {
   "cell_type": "code",
   "execution_count": 50,
   "id": "e878ed35",
   "metadata": {
    "ExecuteTime": {
     "end_time": "2023-06-06T10:23:16.214189Z",
     "start_time": "2023-06-06T10:23:16.206174Z"
    }
   },
   "outputs": [],
   "source": [
    "import dill"
   ]
  },
  {
   "cell_type": "code",
   "execution_count": 51,
   "id": "c544be22",
   "metadata": {
    "ExecuteTime": {
     "end_time": "2023-06-06T10:23:16.415874Z",
     "start_time": "2023-06-06T10:23:16.407776Z"
    }
   },
   "outputs": [],
   "source": [
    "def saveModel(model, fileNameDotPkl):\n",
    "    with open(fileNameDotPkl, 'wb') as f:\n",
    "        dill.dump(model, f)\n",
    "        \n",
    "def loadModel(model, fileNameDotPkl):\n",
    "    with open(fileNameDotPkl, 'rb') as f:\n",
    "        model = dill.load(f)\n",
    "    return model"
   ]
  },
  {
   "cell_type": "code",
   "execution_count": 52,
   "id": "2ac9285d",
   "metadata": {
    "ExecuteTime": {
     "end_time": "2023-06-06T10:23:16.617531Z",
     "start_time": "2023-06-06T10:23:16.603851Z"
    }
   },
   "outputs": [],
   "source": [
    "from sklearn.datasets import fetch_20newsgroups as getData\n",
    "from nltk.corpus import reuters as corpus"
   ]
  },
  {
   "cell_type": "code",
   "execution_count": 53,
   "id": "d96889d7",
   "metadata": {
    "ExecuteTime": {
     "end_time": "2023-06-06T10:23:16.932839Z",
     "start_time": "2023-06-06T10:23:16.652063Z"
    }
   },
   "outputs": [],
   "source": [
    "X, y = getData(subset='train', remove = ('headers', 'footers', 'qoutes'), return_X_y = True)"
   ]
  },
  {
   "cell_type": "code",
   "execution_count": 54,
   "id": "5972462e",
   "metadata": {
    "ExecuteTime": {
     "end_time": "2023-06-06T10:23:17.042197Z",
     "start_time": "2023-06-06T10:23:17.028367Z"
    }
   },
   "outputs": [
    {
     "name": "stdout",
     "output_type": "stream",
     "text": [
      "I was wondering if anyone out there could enlighten me on this car I saw\n",
      "the other day. It was a 2-door sports car, looked to be from the late 60s/\n",
      "early 70s. It was called a Bricklin. The doors were really small. In addition,\n",
      "the front bumper was separate from the rest of the body. This is \n",
      "all I know. If anyone can tellme a model name, engine specs, years\n",
      "of production, where this car is made, history, or whatever info you\n",
      "have on this funky looking car, please e-mail.\n"
     ]
    }
   ],
   "source": [
    "print(X[0])"
   ]
  },
  {
   "cell_type": "code",
   "execution_count": 55,
   "id": "81957c88",
   "metadata": {
    "ExecuteTime": {
     "end_time": "2023-06-06T10:23:17.615737Z",
     "start_time": "2023-06-06T10:23:17.600395Z"
    }
   },
   "outputs": [
    {
     "data": {
      "text/plain": [
       "11314"
      ]
     },
     "execution_count": 55,
     "metadata": {},
     "output_type": "execute_result"
    }
   ],
   "source": [
    "len(X)"
   ]
  },
  {
   "cell_type": "code",
   "execution_count": 56,
   "id": "7b79111a",
   "metadata": {
    "ExecuteTime": {
     "end_time": "2023-06-06T10:23:18.235666Z",
     "start_time": "2023-06-06T10:23:18.220571Z"
    }
   },
   "outputs": [],
   "source": [
    "n = 3\n",
    "model = buildModel()"
   ]
  },
  {
   "cell_type": "code",
   "execution_count": 57,
   "id": "4eb1c73e",
   "metadata": {
    "ExecuteTime": {
     "end_time": "2023-06-06T10:30:40.959005Z",
     "start_time": "2023-06-06T10:23:18.572647Z"
    }
   },
   "outputs": [],
   "source": [
    "for doc in X:\n",
    "    for nGram in nGrams(doc, n, False):\n",
    "        model = updateCount(nGram, model)"
   ]
  },
  {
   "cell_type": "code",
   "execution_count": 40,
   "id": "f744ffa8",
   "metadata": {
    "ExecuteTime": {
     "end_time": "2023-06-06T10:21:20.080212Z",
     "start_time": "2023-06-06T10:21:16.959349Z"
    }
   },
   "outputs": [
    {
     "name": "stderr",
     "output_type": "stream",
     "text": [
      "[nltk_data] Downloading package punkt to\n",
      "[nltk_data]     C:\\Users\\HeitorFelixdeOliveir\\AppData\\Roaming\\nltk_dat\n",
      "[nltk_data]     a...\n",
      "[nltk_data]   Unzipping tokenizers\\punkt.zip.\n"
     ]
    },
    {
     "data": {
      "text/plain": [
       "True"
      ]
     },
     "execution_count": 40,
     "metadata": {},
     "output_type": "execute_result"
    }
   ],
   "source": [
    "import nltk\n",
    "nltk.download('punkt')\n"
   ]
  },
  {
   "cell_type": "code",
   "execution_count": 58,
   "id": "2d33717d",
   "metadata": {
    "ExecuteTime": {
     "end_time": "2023-06-06T10:30:49.849438Z",
     "start_time": "2023-06-06T10:30:40.961105Z"
    },
    "scrolled": true
   },
   "outputs": [],
   "source": [
    "for sentence in corpus.sents():\n",
    "    for nGram in nGrams(sentence, n, True):\n",
    "        model = updateCount(nGram, model)"
   ]
  },
  {
   "cell_type": "code",
   "execution_count": 59,
   "id": "a032675e",
   "metadata": {
    "ExecuteTime": {
     "end_time": "2023-06-06T10:30:51.408223Z",
     "start_time": "2023-06-06T10:30:49.851361Z"
    }
   },
   "outputs": [],
   "source": [
    "model = computeProbability(model)"
   ]
  },
  {
   "cell_type": "code",
   "execution_count": 60,
   "id": "55aa40aa",
   "metadata": {
    "ExecuteTime": {
     "end_time": "2023-06-06T10:39:22.526557Z",
     "start_time": "2023-06-06T10:30:51.412119Z"
    }
   },
   "outputs": [],
   "source": [
    "saveModel(model, 'model.pkl')"
   ]
  },
  {
   "cell_type": "code",
   "execution_count": 77,
   "id": "bf3e6e8a",
   "metadata": {
    "ExecuteTime": {
     "end_time": "2023-06-06T12:28:29.056997Z",
     "start_time": "2023-06-06T12:28:29.037398Z"
    }
   },
   "outputs": [],
   "source": [
    "text = ['after', 'that']\n",
    "nextWords = list(model[tuple(text[-n+1:])].keys())\n",
    "probs = list(model[tuple(text[-n+1:])].values())"
   ]
  },
  {
   "cell_type": "code",
   "execution_count": 109,
   "id": "115996f9",
   "metadata": {
    "ExecuteTime": {
     "end_time": "2023-06-06T12:28:58.459072Z",
     "start_time": "2023-06-06T12:28:58.441431Z"
    }
   },
   "outputs": [
    {
     "name": "stdout",
     "output_type": "stream",
     "text": [
      "those\n"
     ]
    }
   ],
   "source": [
    "nextWord = np.random.choice(nextWords, 1, probs)[0]\n",
    "print(nextWord)"
   ]
  },
  {
   "cell_type": "code",
   "execution_count": 130,
   "id": "68cdabfb",
   "metadata": {
    "ExecuteTime": {
     "end_time": "2023-06-06T12:38:34.946129Z",
     "start_time": "2023-06-06T12:38:34.926852Z"
    }
   },
   "outputs": [],
   "source": [
    "def sampleText(model, startingText = ['after', 'that'], maxLength  = 100, nGramSize=3):\n",
    "    text = startingText\n",
    "    n = nGramSize\n",
    "    while not len(text)>maxLength:\n",
    "        nextWords = list(model[tuple(text[-n+1:])].keys())\n",
    "        probs = list(model[tuple(text[-n+1:])].values())\n",
    "        if len(nextWords) > 0:\n",
    "            nextWord = np.random.choice(nextWords, 1, probs)[0]\n",
    "            text.append(nextWord)\n",
    "        else:\n",
    "            break\n",
    "        \n",
    "    sampled = ' '.join(text)\n",
    "    return sampled\n"
   ]
  },
  {
   "cell_type": "code",
   "execution_count": 132,
   "id": "c020be7b",
   "metadata": {
    "ExecuteTime": {
     "end_time": "2023-06-06T12:38:42.745120Z",
     "start_time": "2023-06-06T12:38:42.701235Z"
    }
   },
   "outputs": [
    {
     "name": "stdout",
     "output_type": "stream",
     "text": [
      "after that ! that takes effect , for several days in detention at tulkarm \n",
      " prison , omar jaber lucky : he 'd start a possible scenario for them \n",
      " to exclude the \n",
      " centerpiece of america . a free ride in the beginning i wish these quacks would first use \n",
      " irq7 ! . ' thus ten \n",
      "  more bodies . \" turkey in cyprus . there exists diffs to the manufacturer     \n",
      "           ( western galilee ) and check out \" . to ensure shipments are kept in close coordination with the tract in general until last wednesday 's \n",
      "\n"
     ]
    }
   ],
   "source": [
    "print(sampleText(model, ['after', 'that']))"
   ]
  },
  {
   "cell_type": "code",
   "execution_count": null,
   "id": "535fd32f",
   "metadata": {},
   "outputs": [],
   "source": []
  },
  {
   "cell_type": "code",
   "execution_count": null,
   "id": "831d93ab",
   "metadata": {},
   "outputs": [],
   "source": []
  }
 ],
 "metadata": {
  "kernelspec": {
   "display_name": "Python 3 (ipykernel)",
   "language": "python",
   "name": "python3"
  },
  "language_info": {
   "codemirror_mode": {
    "name": "ipython",
    "version": 3
   },
   "file_extension": ".py",
   "mimetype": "text/x-python",
   "name": "python",
   "nbconvert_exporter": "python",
   "pygments_lexer": "ipython3",
   "version": "3.9.13"
  }
 },
 "nbformat": 4,
 "nbformat_minor": 5
}
