{
 "cells": [
  {
   "cell_type": "code",
   "execution_count": 6,
   "id": "373e896c",
   "metadata": {
    "ExecuteTime": {
     "end_time": "2023-06-04T13:39:50.477887Z",
     "start_time": "2023-06-04T13:39:49.494616Z"
    }
   },
   "outputs": [
    {
     "name": "stdout",
     "output_type": "stream",
     "text": [
      "He he True\n",
      "is be True\n",
      "reading read False\n",
      "books book False\n",
      "with with True\n",
      "other other True\n",
      "students student False\n",
      "while while True\n",
      "eating eat False\n",
      "meal meal False\n",
      ". . False\n"
     ]
    }
   ],
   "source": [
    "import spacy\n",
    "\n",
    "nlp = spacy.load('en_core_web_sm')\n",
    "\n",
    "proc = nlp('He is reading books with other students while eating meal.')\n",
    "\n",
    "for token in proc:\n",
    "    print(token.text, token.lemma_, token.is_stop)"
   ]
  },
  {
   "cell_type": "code",
   "execution_count": 7,
   "id": "bab0a497",
   "metadata": {
    "ExecuteTime": {
     "end_time": "2023-06-04T13:49:48.567222Z",
     "start_time": "2023-06-04T13:49:48.528433Z"
    }
   },
   "outputs": [
    {
     "name": "stdout",
     "output_type": "stream",
     "text": [
      "This is the first sentence.\n",
      "However, all the other Ph.D. students are working on, say, second sentence.\n"
     ]
    }
   ],
   "source": [
    "txt = 'This is the first sentence. However, all the other Ph.D. students are working on, say, second sentence.'\n",
    "\n",
    "proc = nlp(txt)\n",
    "\n",
    "for s in proc.sents:\n",
    "    print(s.text)"
   ]
  },
  {
   "cell_type": "code",
   "execution_count": 2,
   "id": "12a54e65",
   "metadata": {
    "ExecuteTime": {
     "end_time": "2023-06-06T08:25:05.755906Z",
     "start_time": "2023-06-06T08:25:05.494229Z"
    }
   },
   "outputs": [],
   "source": [
    "import numpy as np"
   ]
  },
  {
   "cell_type": "code",
   "execution_count": null,
   "id": "1be5b266",
   "metadata": {},
   "outputs": [],
   "source": []
  }
 ],
 "metadata": {
  "kernelspec": {
   "display_name": "Python 3 (ipykernel)",
   "language": "python",
   "name": "python3"
  },
  "language_info": {
   "codemirror_mode": {
    "name": "ipython",
    "version": 3
   },
   "file_extension": ".py",
   "mimetype": "text/x-python",
   "name": "python",
   "nbconvert_exporter": "python",
   "pygments_lexer": "ipython3",
   "version": "3.9.13"
  }
 },
 "nbformat": 4,
 "nbformat_minor": 5
}
