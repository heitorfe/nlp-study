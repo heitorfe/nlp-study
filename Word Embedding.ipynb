{
 "cells": [
  {
   "cell_type": "markdown",
   "id": "2afd002e",
   "metadata": {},
   "source": [
    "### Create text8.txt"
   ]
  },
  {
   "cell_type": "code",
   "execution_count": 2,
   "id": "3608ab4a",
   "metadata": {
    "ExecuteTime": {
     "end_time": "2023-06-06T23:35:27.979886Z",
     "start_time": "2023-06-06T23:35:11.484736Z"
    }
   },
   "outputs": [
    {
     "name": "stderr",
     "output_type": "stream",
     "text": [
      "\n",
      "KeyboardInterrupt\n",
      "\n"
     ]
    }
   ],
   "source": [
    "import numpy as np\n",
    "import re\n",
    "import gensim.downloader as api\n",
    "from gensim.models import Word2Vec\n",
    "dataset = api.load(\"text8\")\n",
    "model = Word2Vec(dataset)\n",
    "model.save(\"data/text8-word2vec.bin\")\n",
    "\n",
    "path = dataset.fn\n",
    "import os\n",
    "\n",
    "# Abrir o arquivo \"text8\" para leitura de bytes\n",
    "with open('./data/text8', 'rb') as file:\n",
    "    content_bytes = file.read()\n",
    "\n",
    "# Decodificar os bytes para uma string\n",
    "content = content_bytes.decode('utf-8')\n",
    "\n",
    "# Salvar o conteúdo em um novo arquivo de texto\n",
    "with open('./data/text8_decoded.txt', 'w', encoding='utf-8') as file:\n",
    "    file.write(content)\n"
   ]
  },
  {
   "cell_type": "code",
   "execution_count": 3,
   "id": "a790ad78",
   "metadata": {
    "ExecuteTime": {
     "end_time": "2023-06-06T23:35:30.754915Z",
     "start_time": "2023-06-06T23:35:29.760945Z"
    }
   },
   "outputs": [],
   "source": [
    "with open('./data/text8_decoded.txt', 'r') as file:\n",
    "    doc = file.read().lower()\n"
   ]
  },
  {
   "cell_type": "code",
   "execution_count": 4,
   "id": "15886998",
   "metadata": {
    "ExecuteTime": {
     "end_time": "2023-06-06T23:35:44.559140Z",
     "start_time": "2023-06-06T23:35:32.715181Z"
    }
   },
   "outputs": [],
   "source": [
    "corpus_list = re.split('\\W+', doc)"
   ]
  },
  {
   "cell_type": "code",
   "execution_count": 5,
   "id": "c800e9e0",
   "metadata": {
    "ExecuteTime": {
     "end_time": "2023-06-06T23:35:44.583561Z",
     "start_time": "2023-06-06T23:35:44.564813Z"
    }
   },
   "outputs": [
    {
     "data": {
      "text/plain": [
       "17005208"
      ]
     },
     "execution_count": 5,
     "metadata": {},
     "output_type": "execute_result"
    }
   ],
   "source": [
    "len(corpus_list)"
   ]
  },
  {
   "cell_type": "code",
   "execution_count": 6,
   "id": "a3d607e3",
   "metadata": {
    "ExecuteTime": {
     "end_time": "2023-06-06T23:36:04.792635Z",
     "start_time": "2023-06-06T23:35:49.134642Z"
    }
   },
   "outputs": [],
   "source": [
    "cutOffValue = 100\n",
    "from collections import defaultdict\n",
    "frequency = defaultdict(int)\n",
    "for token in corpus_list:\n",
    "    frequency[token]+= 1\n",
    "processed_corpus_list = [token for token in corpus_list if frequency[token] >= cutOffValue]"
   ]
  },
  {
   "cell_type": "code",
   "execution_count": 7,
   "id": "1ca45a35",
   "metadata": {
    "ExecuteTime": {
     "end_time": "2023-06-06T23:36:04.816773Z",
     "start_time": "2023-06-06T23:36:04.792728Z"
    }
   },
   "outputs": [
    {
     "data": {
      "text/plain": [
       "15471435"
      ]
     },
     "execution_count": 7,
     "metadata": {},
     "output_type": "execute_result"
    }
   ],
   "source": [
    "len(processed_corpus_list)"
   ]
  },
  {
   "cell_type": "code",
   "execution_count": 8,
   "id": "642bd1f3",
   "metadata": {
    "ExecuteTime": {
     "end_time": "2023-06-06T23:36:05.078853Z",
     "start_time": "2023-06-06T23:36:04.821085Z"
    }
   },
   "outputs": [],
   "source": [
    "allWords = np.array(list(frequency.keys()))\n",
    "allCounts = np.array(list(frequency.values()))"
   ]
  },
  {
   "cell_type": "code",
   "execution_count": 9,
   "id": "56a74dec",
   "metadata": {
    "ExecuteTime": {
     "end_time": "2023-06-06T23:36:05.111223Z",
     "start_time": "2023-06-06T23:36:05.081169Z"
    }
   },
   "outputs": [],
   "source": [
    "vocab = allWords[allCounts >= cutOffValue]\n",
    "wordCounts  = allCounts[allCounts >= cutOffValue]"
   ]
  },
  {
   "cell_type": "code",
   "execution_count": 10,
   "id": "18327bba",
   "metadata": {
    "ExecuteTime": {
     "end_time": "2023-06-06T23:36:05.126920Z",
     "start_time": "2023-06-06T23:36:05.111869Z"
    }
   },
   "outputs": [],
   "source": [
    "from scipy.sparse import lil_matrix"
   ]
  },
  {
   "cell_type": "code",
   "execution_count": 11,
   "id": "f0fdbe28",
   "metadata": {
    "ExecuteTime": {
     "end_time": "2023-06-06T23:36:05.611999Z",
     "start_time": "2023-06-06T23:36:05.130907Z"
    }
   },
   "outputs": [],
   "source": [
    "def computeWordContextMatrix(corpus_list, vocab=None, window_size=2):\n",
    "    if vocab is None:\n",
    "        vocab = sorted(list(set(corpus_list)))\n",
    "    numWords = len(vocab)  \n",
    "    M = np.zeros((numWords, numWords))\n",
    "#     M = lil_matrix((numWords, numWords))\n",
    "    w_2_i_mapping = dict(zip(vocab, np.arange(numWords)))\n",
    "    i_2_w_mapping = dict(zip(np.arange(numWords), vocab))\n",
    "    doc = corpus_list\n",
    "    curIdx = 0\n",
    "    docLength = len(doc)\n",
    "    while curIdx < docLength:\n",
    "        left = max(curIdx - window_size, 0)\n",
    "        right = min(curIdx + window_size + 1, docLength)\n",
    "        wordsInContext = doc[left:curIdx] + doc[curIdx+1:right]\n",
    "        currentWord = doc[curIdx]\n",
    "        currentWordIdx = w_2_i_mapping[currentWord]\n",
    "        for word in wordsInContext:\n",
    "            contextWordIdx = w_2_i_mapping[word]\n",
    "            M[currentWordIdx,contextWordIdx] += 1\n",
    "        curIdx += 1\n",
    "    return M, w_2_i_mapping, i_2_w_mapping"
   ]
  },
  {
   "cell_type": "code",
   "execution_count": 12,
   "id": "5e2e324e",
   "metadata": {
    "ExecuteTime": {
     "end_time": "2023-06-06T23:38:03.251956Z",
     "start_time": "2023-06-06T23:36:05.611999Z"
    }
   },
   "outputs": [],
   "source": [
    "M, w_2_i_mapping, i_2_w_mapping = computeWordContextMatrix(processed_corpus_list, vocab)"
   ]
  },
  {
   "cell_type": "code",
   "execution_count": 83,
   "id": "9daf1465",
   "metadata": {
    "ExecuteTime": {
     "end_time": "2023-06-06T22:04:54.278255Z",
     "start_time": "2023-06-06T21:57:12.383211Z"
    }
   },
   "outputs": [],
   "source": [
    "M, w_2_i_mapping, i_2_w_mapping = computeWordContextMatrix(processed_corpus_list, vocab)"
   ]
  },
  {
   "cell_type": "code",
   "execution_count": 71,
   "id": "b8b53d2e",
   "metadata": {
    "ExecuteTime": {
     "end_time": "2023-06-06T21:50:39.304335Z",
     "start_time": "2023-06-06T21:50:39.291802Z"
    }
   },
   "outputs": [
    {
     "data": {
      "text/plain": [
       "(11815, 11815)"
      ]
     },
     "execution_count": 71,
     "metadata": {},
     "output_type": "execute_result"
    }
   ],
   "source": [
    "M.shape"
   ]
  },
  {
   "cell_type": "code",
   "execution_count": null,
   "id": "69d03250",
   "metadata": {
    "ExecuteTime": {
     "end_time": "2023-06-06T21:50:42.004374Z",
     "start_time": "2023-06-06T21:50:41.995641Z"
    }
   },
   "outputs": [],
   "source": [
    "len(vocab)"
   ]
  },
  {
   "cell_type": "code",
   "execution_count": 74,
   "id": "11928eca",
   "metadata": {
    "ExecuteTime": {
     "end_time": "2023-06-06T21:51:29.211879Z",
     "start_time": "2023-06-06T21:51:29.204422Z"
    }
   },
   "outputs": [
    {
     "name": "stdout",
     "output_type": "stream",
     "text": [
      "190 good\n"
     ]
    }
   ],
   "source": [
    "word = 'good'\n",
    "print(w_2_i_mapping[word], i_2_w_mapping[190])"
   ]
  },
  {
   "cell_type": "code",
   "execution_count": 78,
   "id": "f815c1ca",
   "metadata": {
    "ExecuteTime": {
     "end_time": "2023-06-06T21:52:21.263786Z",
     "start_time": "2023-06-06T21:52:21.246470Z"
    }
   },
   "outputs": [
    {
     "name": "stdout",
     "output_type": "stream",
     "text": [
      "[  0.   0. 214. ...   0.   0.   0.]\n"
     ]
    }
   ],
   "source": [
    "v = M[w_2_i_mapping[word]]\n",
    "print(v)"
   ]
  },
  {
   "cell_type": "code",
   "execution_count": 79,
   "id": "56e68946",
   "metadata": {
    "ExecuteTime": {
     "end_time": "2023-06-06T21:52:21.387182Z",
     "start_time": "2023-06-06T21:52:21.368363Z"
    }
   },
   "outputs": [
    {
     "data": {
      "text/plain": [
       "(11815,)"
      ]
     },
     "execution_count": 79,
     "metadata": {},
     "output_type": "execute_result"
    }
   ],
   "source": [
    "v.shape"
   ]
  },
  {
   "cell_type": "code",
   "execution_count": 13,
   "id": "91935dbd",
   "metadata": {
    "ExecuteTime": {
     "end_time": "2023-06-06T23:38:03.284854Z",
     "start_time": "2023-06-06T23:38:03.259167Z"
    }
   },
   "outputs": [],
   "source": [
    "def pmi(M, positive = True):\n",
    "    col_totals = np.sum(M, axis=0)\n",
    "    total = col_totals.sum()\n",
    "    row_totals = np.sum(M, axis =1)\n",
    "    expected = np.outer(row_totals, col_totals) / total\n",
    "    M = M / expected\n",
    "    with np.errstate(divide = 'ignore'):\n",
    "        M = np.log(M)\n",
    "    M[np.isinf(M)] = 0.0\n",
    "    if positive:\n",
    "        M[M<0] = 0.0\n",
    "    return M"
   ]
  },
  {
   "cell_type": "code",
   "execution_count": 14,
   "id": "e18cbc05",
   "metadata": {
    "ExecuteTime": {
     "end_time": "2023-06-06T23:38:21.939455Z",
     "start_time": "2023-06-06T23:38:03.286151Z"
    }
   },
   "outputs": [],
   "source": [
    "M = pmi(M)"
   ]
  },
  {
   "cell_type": "code",
   "execution_count": 86,
   "id": "3b681414",
   "metadata": {
    "ExecuteTime": {
     "end_time": "2023-06-06T22:14:44.283619Z",
     "start_time": "2023-06-06T22:14:44.275047Z"
    }
   },
   "outputs": [
    {
     "data": {
      "text/plain": [
       "matrix([[0.       , 0.       , 0.4605286, ..., 0.       , 0.       ,\n",
       "         0.       ]])"
      ]
     },
     "execution_count": 86,
     "metadata": {},
     "output_type": "execute_result"
    }
   ],
   "source": [
    "M[w_2_i_mapping['good'], :]"
   ]
  },
  {
   "cell_type": "markdown",
   "id": "5b7c200f",
   "metadata": {},
   "source": [
    "### SVD2"
   ]
  },
  {
   "cell_type": "code",
   "execution_count": 1,
   "id": "6b773dd0",
   "metadata": {
    "ExecuteTime": {
     "end_time": "2023-06-06T23:34:49.334129Z",
     "start_time": "2023-06-06T23:34:49.309959Z"
    }
   },
   "outputs": [],
   "source": [
    "from sklearn.decomposition import TruncatedSVD, PCA, IncrementalPCA"
   ]
  },
  {
   "cell_type": "code",
   "execution_count": 15,
   "id": "a61fb549",
   "metadata": {
    "ExecuteTime": {
     "end_time": "2023-06-06T23:38:21.955437Z",
     "start_time": "2023-06-06T23:38:21.939455Z"
    }
   },
   "outputs": [],
   "source": [
    "transformer = TruncatedSVD(n_components=100)"
   ]
  },
  {
   "cell_type": "code",
   "execution_count": 16,
   "id": "b92b401d",
   "metadata": {
    "ExecuteTime": {
     "end_time": "2023-06-06T23:38:31.956981Z",
     "start_time": "2023-06-06T23:38:21.959031Z"
    }
   },
   "outputs": [],
   "source": [
    "M_reduced = transformer.fit_transform(M)"
   ]
  },
  {
   "cell_type": "code",
   "execution_count": 18,
   "id": "2853203b",
   "metadata": {
    "ExecuteTime": {
     "end_time": "2023-06-06T23:39:13.403261Z",
     "start_time": "2023-06-06T23:39:13.388464Z"
    }
   },
   "outputs": [
    {
     "data": {
      "text/plain": [
       "(11815, 100)"
      ]
     },
     "execution_count": 18,
     "metadata": {},
     "output_type": "execute_result"
    }
   ],
   "source": [
    "M_reduced.shape\n"
   ]
  }
 ],
 "metadata": {
  "kernelspec": {
   "display_name": "Python 3 (ipykernel)",
   "language": "python",
   "name": "python3"
  },
  "language_info": {
   "codemirror_mode": {
    "name": "ipython",
    "version": 3
   },
   "file_extension": ".py",
   "mimetype": "text/x-python",
   "name": "python",
   "nbconvert_exporter": "python",
   "pygments_lexer": "ipython3",
   "version": "3.9.13"
  }
 },
 "nbformat": 4,
 "nbformat_minor": 5
}
