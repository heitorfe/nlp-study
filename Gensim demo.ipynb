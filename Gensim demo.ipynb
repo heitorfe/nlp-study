{
 "cells": [
  {
   "cell_type": "code",
   "execution_count": 6,
   "id": "99364821",
   "metadata": {
    "ExecuteTime": {
     "end_time": "2023-06-06T15:10:17.923177Z",
     "start_time": "2023-06-06T15:10:17.899708Z"
    }
   },
   "outputs": [],
   "source": [
    "from gensim import corpora, models, similarities\n",
    "from sklearn.datasets import fetch_20newsgroups as getData\n",
    "from sklearn.model_selection import train_test_split\n",
    "from collections import defaultdict\n",
    "import re\n",
    "import numpy as np"
   ]
  },
  {
   "cell_type": "code",
   "execution_count": 7,
   "id": "41122f25",
   "metadata": {
    "ExecuteTime": {
     "end_time": "2023-06-06T15:11:08.138207Z",
     "start_time": "2023-06-06T15:11:04.859366Z"
    }
   },
   "outputs": [],
   "source": [
    "corpus = getData(subset = 'train', remove = ('headers', 'footers', 'quotes'))\n",
    "X = corpus.data\n",
    "y = corpus.target\n",
    "y_names = corpus.target_names"
   ]
  },
  {
   "cell_type": "code",
   "execution_count": 12,
   "id": "7889e81b",
   "metadata": {
    "ExecuteTime": {
     "end_time": "2023-06-06T15:27:07.864473Z",
     "start_time": "2023-06-06T15:27:07.850993Z"
    }
   },
   "outputs": [
    {
     "name": "stdout",
     "output_type": "stream",
     "text": [
      "I was wondering if anyone out there could enlighten me on this car I saw\n",
      "the other day. It was a 2-door sports car, looked to be from the late 60s/\n",
      "early 70s. It was called a Bricklin. The doors were really small. In addition,\n",
      "the front bumper was separate from the rest of the body. This is \n",
      "all I know. If anyone can tellme a model name, engine specs, years\n",
      "of production, where this car is made, history, or whatever info you\n",
      "have on this funky looking car, please e-mail.\n",
      "11314\n",
      "rec.autos\n"
     ]
    }
   ],
   "source": [
    "print(X[0])\n",
    "print(len(X))\n",
    "print(y_names[y[0]])"
   ]
  },
  {
   "cell_type": "code",
   "execution_count": 8,
   "id": "93db4942",
   "metadata": {
    "ExecuteTime": {
     "end_time": "2023-06-06T15:11:27.753686Z",
     "start_time": "2023-06-06T15:11:27.730851Z"
    }
   },
   "outputs": [],
   "source": [
    "X_train, X_test, y_train, y_test = train_test_split(X, y, train_size=0.9, shuffle = True)"
   ]
  },
  {
   "cell_type": "code",
   "execution_count": 9,
   "id": "3ff61103",
   "metadata": {
    "ExecuteTime": {
     "end_time": "2023-06-06T15:12:47.428249Z",
     "start_time": "2023-06-06T15:12:45.594343Z"
    }
   },
   "outputs": [],
   "source": [
    "stoplist = set('for a of the and in'.split(' '))\n",
    "texts = [[word for word in re.split('\\W+', doc.lower()) if word not in stoplist] \n",
    "        for doc in X_train]"
   ]
  },
  {
   "cell_type": "code",
   "execution_count": 13,
   "id": "93c02b59",
   "metadata": {
    "ExecuteTime": {
     "end_time": "2023-06-06T15:28:33.677198Z",
     "start_time": "2023-06-06T15:28:33.657593Z"
    }
   },
   "outputs": [
    {
     "name": "stdout",
     "output_type": "stream",
     "text": [
      "10182\n"
     ]
    }
   ],
   "source": [
    "print(len(texts))"
   ]
  },
  {
   "cell_type": "code",
   "execution_count": 14,
   "id": "fa3b893e",
   "metadata": {
    "ExecuteTime": {
     "end_time": "2023-06-06T15:29:20.508495Z",
     "start_time": "2023-06-06T15:29:19.018157Z"
    }
   },
   "outputs": [],
   "source": [
    "frequency = defaultdict(int)\n",
    "for text in texts:\n",
    "    for token in text:\n",
    "        frequency[token]+=1\n",
    "\n",
    "cutOffValue = 10\n",
    "processed_corpus = [[token for token in text if frequency[token]> cutOffValue]\n",
    "                   for text in texts]"
   ]
  },
  {
   "cell_type": "code",
   "execution_count": 16,
   "id": "cedea7bb",
   "metadata": {
    "ExecuteTime": {
     "end_time": "2023-06-06T15:29:56.311970Z",
     "start_time": "2023-06-06T15:29:53.547646Z"
    }
   },
   "outputs": [
    {
     "name": "stdout",
     "output_type": "stream",
     "text": [
      "Dictionary<12407 unique tokens: ['', '0', '1', '1x', '2']...>\n"
     ]
    }
   ],
   "source": [
    "dictionary = corpora.Dictionary(processed_corpus)\n",
    "print(dictionary)"
   ]
  },
  {
   "cell_type": "code",
   "execution_count": 19,
   "id": "d1bc26fa",
   "metadata": {
    "ExecuteTime": {
     "end_time": "2023-06-06T15:30:50.849479Z",
     "start_time": "2023-06-06T15:30:48.987660Z"
    }
   },
   "outputs": [],
   "source": [
    "bow_corpus = [dictionary.doc2bow(text) for text in processed_corpus]"
   ]
  },
  {
   "cell_type": "code",
   "execution_count": 20,
   "id": "5eb32199",
   "metadata": {
    "ExecuteTime": {
     "end_time": "2023-06-06T15:30:57.038242Z",
     "start_time": "2023-06-06T15:30:57.030204Z"
    }
   },
   "outputs": [
    {
     "name": "stdout",
     "output_type": "stream",
     "text": [
      "[(0, 1), (10, 1), (26, 1), (47, 1), (48, 1), (66, 1), (75, 3), (87, 1), (107, 1), (130, 1), (133, 1), (143, 1), (146, 1), (166, 1), (194, 1), (222, 1), (230, 1), (369, 1), (392, 1), (502, 1), (533, 1), (613, 1), (713, 2), (729, 1), (731, 1), (799, 1), (1202, 1), (1345, 1), (1700, 1), (2383, 1), (2972, 1), (3019, 1), (3044, 1), (3045, 1)]\n"
     ]
    }
   ],
   "source": [
    "print(bow_corpus[100])"
   ]
  },
  {
   "cell_type": "code",
   "execution_count": 21,
   "id": "942a7db8",
   "metadata": {
    "ExecuteTime": {
     "end_time": "2023-06-06T15:31:26.753225Z",
     "start_time": "2023-06-06T15:31:26.400204Z"
    }
   },
   "outputs": [],
   "source": [
    "model = models.TfidfModel(bow_corpus)"
   ]
  },
  {
   "cell_type": "code",
   "execution_count": 23,
   "id": "1fe03872",
   "metadata": {
    "ExecuteTime": {
     "end_time": "2023-06-06T15:37:43.206836Z",
     "start_time": "2023-06-06T15:37:39.131069Z"
    }
   },
   "outputs": [],
   "source": [
    "index = similarities.SparseMatrixSimilarity(model[bow_corpus], num_features=len(dictionary))"
   ]
  },
  {
   "cell_type": "code",
   "execution_count": 43,
   "id": "120f5af9",
   "metadata": {
    "ExecuteTime": {
     "end_time": "2023-06-06T15:41:17.017823Z",
     "start_time": "2023-06-06T15:41:16.975651Z"
    }
   },
   "outputs": [
    {
     "name": "stdout",
     "output_type": "stream",
     "text": [
      "Predicted: comp.sys.ibm.pc.hardware\n",
      "Ground Truth: comp.sys.ibm.pc.hardware\n"
     ]
    }
   ],
   "source": [
    "t = np.random.randint(len(X_test))\n",
    "\n",
    "\n",
    "query_document = re.split('\\W+', X_test[t].lower())\n",
    "\n",
    "\n",
    "query_bow = dictionary.doc2bow(query_document)\n",
    "\n",
    "sims = index[model[query_bow]]\n",
    "\n",
    "docNumber = sorted(enumerate(sims), key = lambda x: x[1], reverse = True)[0][0]\n",
    "\n",
    "print('Predicted:', y_names[y_train[docNumber]])\n",
    "print('Ground Truth:', y_names[y_test[t]])"
   ]
  }
 ],
 "metadata": {
  "kernelspec": {
   "display_name": "Python 3 (ipykernel)",
   "language": "python",
   "name": "python3"
  },
  "language_info": {
   "codemirror_mode": {
    "name": "ipython",
    "version": 3
   },
   "file_extension": ".py",
   "mimetype": "text/x-python",
   "name": "python",
   "nbconvert_exporter": "python",
   "pygments_lexer": "ipython3",
   "version": "3.9.13"
  }
 },
 "nbformat": 4,
 "nbformat_minor": 5
}
