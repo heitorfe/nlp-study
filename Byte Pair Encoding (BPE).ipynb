{
 "cells": [
  {
   "cell_type": "code",
   "execution_count": 100,
   "id": "a330b488",
   "metadata": {
    "ExecuteTime": {
     "end_time": "2023-06-03T12:03:03.024691Z",
     "start_time": "2023-06-03T12:03:03.009372Z"
    }
   },
   "outputs": [],
   "source": [
    "import numpy as np\n",
    "import re\n",
    "from operator import itemgetter"
   ]
  },
  {
   "cell_type": "code",
   "execution_count": 101,
   "id": "4a3cf294",
   "metadata": {
    "ExecuteTime": {
     "end_time": "2023-06-03T12:03:03.198679Z",
     "start_time": "2023-06-03T12:03:03.184026Z"
    }
   },
   "outputs": [
    {
     "data": {
      "text/plain": [
       "{'l o w _': 5,\n",
       " 'l o w e r _': 2,\n",
       " 'n e w e s t _': 6,\n",
       " 'w i d e s t _': 3,\n",
       " 'h a p p i e r _': 2}"
      ]
     },
     "execution_count": 101,
     "metadata": {},
     "output_type": "execute_result"
    }
   ],
   "source": [
    "Corpus = {'l o w _' : 5,\n",
    "          'l o w e r _' : 2,\n",
    "          'n e w e s t _' : 6,\n",
    "          'w i d e s t _' : 3,\n",
    "          'h a p p i e r _' : 2}\n",
    "\n",
    "Corpus"
   ]
  },
  {
   "cell_type": "code",
   "execution_count": 102,
   "id": "f5549bc0",
   "metadata": {
    "ExecuteTime": {
     "end_time": "2023-06-03T12:03:03.325717Z",
     "start_time": "2023-06-03T12:03:03.310678Z"
    }
   },
   "outputs": [],
   "source": [
    "def getPairCounts(Corpus):\n",
    "    pairs = {}\n",
    "    for word, fr in Corpus.items():\n",
    "        symbols = word.split(' ')\n",
    "        for i in range(len(symbols) - 1):\n",
    "            pair = (symbols[i], symbols[i+1])\n",
    "            cfr = pairs.get(pair, 0)\n",
    "            pairs[pair] = cfr + fr\n",
    "    return pairs"
   ]
  },
  {
   "cell_type": "code",
   "execution_count": 103,
   "id": "6f908241",
   "metadata": {
    "ExecuteTime": {
     "end_time": "2023-06-03T12:03:03.468316Z",
     "start_time": "2023-06-03T12:03:03.438371Z"
    }
   },
   "outputs": [],
   "source": [
    "pairsCounts = getPairCounts(Corpus)"
   ]
  },
  {
   "cell_type": "code",
   "execution_count": 104,
   "id": "3c185806",
   "metadata": {
    "ExecuteTime": {
     "end_time": "2023-06-03T12:03:03.595608Z",
     "start_time": "2023-06-03T12:03:03.579388Z"
    }
   },
   "outputs": [
    {
     "data": {
      "text/plain": [
       "{('l', 'o'): 7,\n",
       " ('o', 'w'): 7,\n",
       " ('w', '_'): 5,\n",
       " ('w', 'e'): 8,\n",
       " ('e', 'r'): 4,\n",
       " ('r', '_'): 4,\n",
       " ('n', 'e'): 6,\n",
       " ('e', 'w'): 6,\n",
       " ('e', 's'): 9,\n",
       " ('s', 't'): 9,\n",
       " ('t', '_'): 9,\n",
       " ('w', 'i'): 3,\n",
       " ('i', 'd'): 3,\n",
       " ('d', 'e'): 3,\n",
       " ('h', 'a'): 2,\n",
       " ('a', 'p'): 2,\n",
       " ('p', 'p'): 2,\n",
       " ('p', 'i'): 2,\n",
       " ('i', 'e'): 2}"
      ]
     },
     "execution_count": 104,
     "metadata": {},
     "output_type": "execute_result"
    }
   ],
   "source": [
    "pairsCounts"
   ]
  },
  {
   "cell_type": "code",
   "execution_count": 105,
   "id": "a1031e87",
   "metadata": {
    "ExecuteTime": {
     "end_time": "2023-06-03T12:03:03.738479Z",
     "start_time": "2023-06-03T12:03:03.724687Z"
    }
   },
   "outputs": [],
   "source": [
    "def getBestPair(pairsCounts):\n",
    "    return max(pairsCounts, key=pairsCounts.get)"
   ]
  },
  {
   "cell_type": "code",
   "execution_count": 106,
   "id": "c4eb475d",
   "metadata": {
    "ExecuteTime": {
     "end_time": "2023-06-03T12:03:03.879830Z",
     "start_time": "2023-06-03T12:03:03.867817Z"
    }
   },
   "outputs": [],
   "source": [
    "bestPair = getBestPair(pairsCounts)"
   ]
  },
  {
   "cell_type": "code",
   "execution_count": 107,
   "id": "835151ce",
   "metadata": {
    "ExecuteTime": {
     "end_time": "2023-06-03T12:03:04.038926Z",
     "start_time": "2023-06-03T12:03:04.031777Z"
    }
   },
   "outputs": [],
   "source": [
    "def mergeInCorpus(bestPair, Corpus):\n",
    "    newCorpus = {}\n",
    "    for word in Corpus:\n",
    "        newWord = re.sub(' '.join(bestPair), ''.join(bestPair), word)\n",
    "        newCorpus[newWord] = Corpus[word]\n",
    "    return newCorpus"
   ]
  },
  {
   "cell_type": "code",
   "execution_count": 108,
   "id": "72991079",
   "metadata": {
    "ExecuteTime": {
     "end_time": "2023-06-03T12:03:04.211609Z",
     "start_time": "2023-06-03T12:03:04.180153Z"
    }
   },
   "outputs": [
    {
     "data": {
      "text/plain": [
       "{'l o w _': 5,\n",
       " 'l o w e r _': 2,\n",
       " 'n e w es t _': 6,\n",
       " 'w i d es t _': 3,\n",
       " 'h a p p i e r _': 2}"
      ]
     },
     "execution_count": 108,
     "metadata": {},
     "output_type": "execute_result"
    }
   ],
   "source": [
    "mergeInCorpus(bestPair, Corpus)"
   ]
  },
  {
   "cell_type": "code",
   "execution_count": 109,
   "id": "e5843232",
   "metadata": {
    "ExecuteTime": {
     "end_time": "2023-06-03T12:03:04.306078Z",
     "start_time": "2023-06-03T12:03:04.292052Z"
    }
   },
   "outputs": [],
   "source": [
    "def runBPE(Corpus, k):\n",
    "    \n",
    "    bpeStats = {}\n",
    "    for i in range(k):\n",
    "        pairCounts = getPairCounts(Corpus)\n",
    "        if not pairCounts:\n",
    "            breka\n",
    "        bestPair = getBestPair(pairCounts)\n",
    "        bpeStats[bestPair] = i\n",
    "        Corpus = mergeInCorpus(bestPair, Corpus)\n",
    "    return Corpus, bpeStats"
   ]
  },
  {
   "cell_type": "code",
   "execution_count": 110,
   "id": "41961cf3",
   "metadata": {
    "ExecuteTime": {
     "end_time": "2023-06-03T12:03:04.432692Z",
     "start_time": "2023-06-03T12:03:04.418267Z"
    }
   },
   "outputs": [],
   "source": [
    "newCorpus, bpeStats = runBPE(Corpus, 10)"
   ]
  },
  {
   "cell_type": "code",
   "execution_count": 111,
   "id": "223802d5",
   "metadata": {
    "ExecuteTime": {
     "end_time": "2023-06-03T12:03:04.590252Z",
     "start_time": "2023-06-03T12:03:04.563131Z"
    }
   },
   "outputs": [
    {
     "data": {
      "text/plain": [
       "{'low_': 5, 'low er _': 2, 'newest_': 6, 'w i d est_': 3, 'h a p p i er _': 2}"
      ]
     },
     "execution_count": 111,
     "metadata": {},
     "output_type": "execute_result"
    }
   ],
   "source": [
    "newCorpus"
   ]
  },
  {
   "cell_type": "code",
   "execution_count": 112,
   "id": "d8066a12",
   "metadata": {
    "ExecuteTime": {
     "end_time": "2023-06-03T12:03:04.717867Z",
     "start_time": "2023-06-03T12:03:04.703812Z"
    }
   },
   "outputs": [
    {
     "data": {
      "text/plain": [
       "{('e', 's'): 0,\n",
       " ('es', 't'): 1,\n",
       " ('est', '_'): 2,\n",
       " ('l', 'o'): 3,\n",
       " ('lo', 'w'): 4,\n",
       " ('n', 'e'): 5,\n",
       " ('ne', 'w'): 6,\n",
       " ('new', 'est_'): 7,\n",
       " ('low', '_'): 8,\n",
       " ('e', 'r'): 9}"
      ]
     },
     "execution_count": 112,
     "metadata": {},
     "output_type": "execute_result"
    }
   ],
   "source": [
    "bpeStats"
   ]
  },
  {
   "cell_type": "code",
   "execution_count": 113,
   "id": "c38271aa",
   "metadata": {
    "ExecuteTime": {
     "end_time": "2023-06-03T12:03:04.875930Z",
     "start_time": "2023-06-03T12:03:04.863503Z"
    }
   },
   "outputs": [],
   "source": [
    "def getAllPairs(word):\n",
    "    pairs = []\n",
    "    word = word.split(' ')\n",
    "    prevChar = word[0]\n",
    "    for char in word[1:]:\n",
    "        pairs.append((prevChar, char))\n",
    "        prevChar = char\n",
    "    return pairs"
   ]
  },
  {
   "cell_type": "code",
   "execution_count": 114,
   "id": "2a9dd716",
   "metadata": {
    "ExecuteTime": {
     "end_time": "2023-06-03T12:03:05.225532Z",
     "start_time": "2023-06-03T12:03:05.212665Z"
    }
   },
   "outputs": [],
   "source": [
    "newWord2 = 'lowest'\n",
    "newWord2 = ' '.join(list(newWord2)) + ' _'"
   ]
  },
  {
   "cell_type": "code",
   "execution_count": 115,
   "id": "664d10ce",
   "metadata": {
    "ExecuteTime": {
     "end_time": "2023-06-03T12:03:05.336377Z",
     "start_time": "2023-06-03T12:03:05.304756Z"
    }
   },
   "outputs": [],
   "source": [
    "pairs = getAllPairs(newWord2)"
   ]
  },
  {
   "cell_type": "code",
   "execution_count": 116,
   "id": "3bfcf3ed",
   "metadata": {
    "ExecuteTime": {
     "end_time": "2023-06-03T12:03:05.494756Z",
     "start_time": "2023-06-03T12:03:05.482012Z"
    }
   },
   "outputs": [
    {
     "data": {
      "text/plain": [
       "[('l', 'o'), ('o', 'w'), ('w', 'e'), ('e', 's'), ('s', 't'), ('t', '_')]"
      ]
     },
     "execution_count": 116,
     "metadata": {},
     "output_type": "execute_result"
    }
   ],
   "source": [
    "pairs"
   ]
  },
  {
   "cell_type": "code",
   "execution_count": 117,
   "id": "9c0df7ee",
   "metadata": {
    "ExecuteTime": {
     "end_time": "2023-06-03T12:03:05.637724Z",
     "start_time": "2023-06-03T12:03:05.624441Z"
    }
   },
   "outputs": [],
   "source": [
    "bpeCodes = [(pair, bpeStats[pair]) for pair in pairs if pair in bpeStats]"
   ]
  },
  {
   "cell_type": "code",
   "execution_count": 118,
   "id": "5c003b27",
   "metadata": {
    "ExecuteTime": {
     "end_time": "2023-06-03T12:03:05.875462Z",
     "start_time": "2023-06-03T12:03:05.861041Z"
    }
   },
   "outputs": [],
   "source": [
    "def getPairToBeMerged(bpeStats, pairs):\n",
    "    bpeCodes = [(pair, bpeStats[pair]) for pair in pairs if pair in bpeStats]\n",
    "    if len(bpeCodes) == 0:\n",
    "        return -1\n",
    "    pairToBeMerged = min(bpeCodes, key=itemgetter(1))[0]\n",
    "    return pairToBeMerged"
   ]
  },
  {
   "cell_type": "code",
   "execution_count": 119,
   "id": "420855c6",
   "metadata": {
    "ExecuteTime": {
     "end_time": "2023-06-03T12:03:06.094957Z",
     "start_time": "2023-06-03T12:03:06.082446Z"
    }
   },
   "outputs": [],
   "source": [
    "pairToBeMerged = getPairToBeMerged(bpeStats, pairs)"
   ]
  },
  {
   "cell_type": "code",
   "execution_count": 120,
   "id": "e34a2bdf",
   "metadata": {
    "ExecuteTime": {
     "end_time": "2023-06-03T12:03:06.427955Z",
     "start_time": "2023-06-03T12:03:06.396239Z"
    }
   },
   "outputs": [],
   "source": [
    "def mergeLetters(word, pairToBeMerged):\n",
    "    newWord = re.sub(' '.join(pairToBeMerged), ''.join(pairToBeMerged), word)\n",
    "    return newWord"
   ]
  },
  {
   "cell_type": "code",
   "execution_count": 121,
   "id": "1a05dad7",
   "metadata": {
    "ExecuteTime": {
     "end_time": "2023-06-03T12:03:06.666815Z",
     "start_time": "2023-06-03T12:03:06.651713Z"
    }
   },
   "outputs": [
    {
     "name": "stdout",
     "output_type": "stream",
     "text": [
      "l o w es t _\n"
     ]
    }
   ],
   "source": [
    "print(mergeLetters(newWord2, pairToBeMerged))"
   ]
  },
  {
   "cell_type": "code",
   "execution_count": 135,
   "id": "110d0e09",
   "metadata": {
    "ExecuteTime": {
     "end_time": "2023-06-03T12:05:32.191918Z",
     "start_time": "2023-06-03T12:05:32.172687Z"
    }
   },
   "outputs": [],
   "source": [
    "def bpeTokenize(word, bpeStats):\n",
    "    if len(word) == 1:\n",
    "        return word\n",
    "    word = ' '.join(list(word)) + ' _'\n",
    "    while True:\n",
    "        pairs = getAllPairs(word)\n",
    "        pairToBeMerged = getPairToBeMerged(bpeStats, pairs)\n",
    "        if pairToBeMerged == -1:\n",
    "            break\n",
    "        word = mergeLetters(word, pairToBeMerged)\n",
    "    return word"
   ]
  },
  {
   "cell_type": "code",
   "execution_count": 137,
   "id": "f6a516d1",
   "metadata": {
    "ExecuteTime": {
     "end_time": "2023-06-03T12:05:32.645098Z",
     "start_time": "2023-06-03T12:05:32.639197Z"
    }
   },
   "outputs": [
    {
     "data": {
      "text/plain": [
       "-1"
      ]
     },
     "execution_count": 137,
     "metadata": {},
     "output_type": "execute_result"
    }
   ],
   "source": [
    "pairToBeMerged"
   ]
  },
  {
   "cell_type": "code",
   "execution_count": 138,
   "id": "1b48fd4b",
   "metadata": {
    "ExecuteTime": {
     "end_time": "2023-06-03T12:05:33.000600Z",
     "start_time": "2023-06-03T12:05:32.992592Z"
    }
   },
   "outputs": [],
   "source": [
    "newWord = bpeTokenize('lowest', bpeStats)"
   ]
  },
  {
   "cell_type": "markdown",
   "id": "c68607d5",
   "metadata": {},
   "source": [
    "### Chat GPT - example"
   ]
  },
  {
   "cell_type": "code",
   "execution_count": 142,
   "id": "b1e081e9",
   "metadata": {
    "ExecuteTime": {
     "end_time": "2023-06-03T12:13:22.941527Z",
     "start_time": "2023-06-03T12:13:22.865649Z"
    }
   },
   "outputs": [
    {
     "name": "stdout",
     "output_type": "stream",
     "text": [
      "Texto original: \n",
      "O Brasil é um país localizado na América do Sul. Possui uma extensa costa banhada pelo Oceano Atlântico. Sua capital é Brasília, mas a maior cidade do país é São Paulo. O Brasil é conhecido por sua diversidade cultural, belas praias, florestas tropicais e festas populares, como o Carnaval. Além disso, o país possui uma rica biodiversidade, abrigando a Floresta Amazônica, considerada um tesouro natural. A culinária brasileira também é bastante variada, com pratos típicos como feijoada, acarajé e brigadeiro. Venha conhecer as maravilhas do Brasil!\n",
      "\n",
      "Texto codificado: ['Ċ', 'O', 'ĠBrasil', 'ĠÃ©', 'Ġum', 'ĠpaÃŃs', 'Ġ', 'lo', 'c', 'al', 'iz', 'a', 'do', 'Ġna', 'ĠA', 'm', 'Ã©', 'r', 'ica', 'Ġdo', 'Ġ', 'S', 'ul', '.', 'ĠP', 'os', 'su', 'i', 'Ġuma', 'Ġe', 'xt', 'ensa', 'Ġco', 's', 'ta', 'Ġb', 'an', 'h', 'ada', 'Ġpel', 'o', 'ĠO', 'c', 'e', 'an', 'o', 'ĠA', 't', 'l', 'Ã¢', 'nt', 'ico', '.', 'Ġ', 'S', 'ua', 'Ġc', 'a', 'p', 'ita', 'l', 'ĠÃ©', 'ĠB', 'ras', 'ÃŃ', 'lia', ',', 'Ġma', 's', 'Ġa', 'Ġma', 'i', 'or', 'Ġc', 'idade', 'Ġdo', 'ĠpaÃŃs', 'ĠÃ©', 'Ġ', 'S', 'Ã£o', 'ĠP', 'a', 'ul', 'o', '.', 'ĠO', 'ĠBrasil', 'ĠÃ©', 'Ġco', 'nhecido', 'Ġpor', 'Ġsua', 'Ġdivers', 'idade', 'Ġc', 'ul', 'tu', 'ral', ',', 'Ġb', 'el', 'as', 'Ġp', 'ra', 'ia', 's', ',', 'Ġf', 'l', 'or', 'esta', 's', 'Ġt', 'ro', 'p', 'ica', 'is', 'Ġe', 'Ġf', 'esta', 's', 'Ġpopular', 'es', ',', 'Ġcomo', 'Ġo', 'ĠC', 'ar', 'n', 'av', 'al', '.', 'ĠA', 'l', 'Ã©m', 'Ġdis', 's', 'o', ',', 'Ġo', 'ĠpaÃŃs', 'Ġpos', 'su', 'i', 'Ġuma', 'Ġ', 'r', 'ica', 'Ġb', 'io', 'd', 'ivers', 'idade', ',', 'Ġa', 'b', 'r', 'i', 'gan', 'do', 'Ġa', 'ĠF', 'l', 'or', 'esta', 'ĠA', 'ma', 'z', 'Ã´nica', ',', 'Ġcon', 's', 'ide', 'ra', 'da', 'Ġum', 'Ġt', 'es', 'ou', 'ro', 'Ġna', 'tu', 'ral', '.', 'ĠA', 'Ġc', 'ul', 'in', 'Ã¡ria', 'Ġbrasileira', 'Ġ', 'ta', 'mb', 'Ã©m', 'ĠÃ©', 'Ġbas', 'tant', 'e', 'Ġv', 'ar', 'ia', 'da', ',', 'Ġcom', 'Ġp', 'ra', 't', 'os', 'Ġt', 'ÃŃ', 'p', 'i', 'cos', 'Ġcomo', 'Ġf', 'ei', 'j', 'o', 'ada', ',', 'Ġa', 'c', 'ara', 'j', 'Ã©', 'Ġe', 'Ġb', 'r', 'i', 'ga', 'de', 'i', 'ro', '.', 'Ġ', 'V', 'en', 'h', 'a', 'Ġco', 'nh', 'e', 'c', 'er', 'Ġas', 'Ġma', 'ra', 'v', 'il', 'h', 'as', 'Ġdo', 'ĠBrasil', '!', 'Ċ']\n",
      "Texto decodificado: \n",
      "O Brasil é um país localizado na América do Sul. Possui uma extensa costa banhada pelo Oceano Atlântico. Sua capital é Brasília, mas a maior cidade do país é São Paulo. O Brasil é conhecido por sua diversidade cultural, belas praias, florestas tropicais e festas populares, como o Carnaval. Além disso, o país possui uma rica biodiversidade, abrigando a Floresta Amazônica, considerada um tesouro natural. A culinária brasileira também é bastante variada, com pratos típicos como feijoada, acarajé e brigadeiro. Venha conhecer as maravilhas do Brasil\n",
      "\n"
     ]
    }
   ],
   "source": [
    "from tokenizers import ByteLevelBPETokenizer\n",
    "\n",
    "# Carregar o tokenizer pré-treinado\n",
    "tokenizer = ByteLevelBPETokenizer()\n",
    "tokenizer.add_special_tokens([\"<s>\", \"<pad>\", \"</s>\"])\n",
    "\n",
    "# Caminhos para os arquivos de treinamento\n",
    "paths = [\"./data/tokenizer_train/texto1.txt\"]\n",
    "\n",
    "# Treinamento do tokenizer BPE\n",
    "tokenizer.train(files=paths, vocab_size=1000, min_frequency=2)\n",
    "\n",
    "# Exemplo de codificação de texto\n",
    "text = \"\"\"\n",
    "O Brasil é um país localizado na América do Sul. Possui uma extensa costa banhada pelo Oceano Atlântico. Sua capital é Brasília, mas a maior cidade do país é São Paulo. O Brasil é conhecido por sua diversidade cultural, belas praias, florestas tropicais e festas populares, como o Carnaval. Além disso, o país possui uma rica biodiversidade, abrigando a Floresta Amazônica, considerada um tesouro natural. A culinária brasileira também é bastante variada, com pratos típicos como feijoada, acarajé e brigadeiro. Venha conhecer as maravilhas do Brasil!\n",
    "\"\"\"\n",
    "\n",
    "encoded = tokenizer.encode(text)\n",
    "decoded = tokenizer.decode(encoded.ids)\n",
    "\n",
    "print(\"Texto original:\", text)\n",
    "print(\"Texto codificado:\", encoded.tokens)\n",
    "print(\"Texto decodificado:\", decoded)\n"
   ]
  },
  {
   "cell_type": "code",
   "execution_count": null,
   "id": "f13beaea",
   "metadata": {},
   "outputs": [],
   "source": []
  }
 ],
 "metadata": {
  "kernelspec": {
   "display_name": "Python 3 (ipykernel)",
   "language": "python",
   "name": "python3"
  },
  "language_info": {
   "codemirror_mode": {
    "name": "ipython",
    "version": 3
   },
   "file_extension": ".py",
   "mimetype": "text/x-python",
   "name": "python",
   "nbconvert_exporter": "python",
   "pygments_lexer": "ipython3",
   "version": "3.9.13"
  }
 },
 "nbformat": 4,
 "nbformat_minor": 5
}
