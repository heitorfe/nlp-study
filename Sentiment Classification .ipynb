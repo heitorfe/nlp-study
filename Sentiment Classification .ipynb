{
 "cells": [
  {
   "cell_type": "code",
   "execution_count": 1,
   "id": "84b87632",
   "metadata": {
    "ExecuteTime": {
     "end_time": "2023-06-03T09:50:52.493368Z",
     "start_time": "2023-06-03T09:50:51.785069Z"
    }
   },
   "outputs": [],
   "source": [
    "import pandas as pd\n",
    "import numpy as np\n",
    "from collections import Counter\n",
    "import re"
   ]
  },
  {
   "cell_type": "code",
   "execution_count": 2,
   "id": "bab36090",
   "metadata": {
    "ExecuteTime": {
     "end_time": "2023-06-03T09:50:57.688490Z",
     "start_time": "2023-06-03T09:50:52.493368Z"
    }
   },
   "outputs": [],
   "source": [
    "df = pd.read_excel('./data/reviews 1.xlsx')"
   ]
  },
  {
   "cell_type": "code",
   "execution_count": 7,
   "id": "198b10ed",
   "metadata": {
    "ExecuteTime": {
     "end_time": "2023-06-02T22:26:55.488662Z",
     "start_time": "2023-06-02T22:26:55.477891Z"
    }
   },
   "outputs": [],
   "source": [
    "vocab = {}"
   ]
  },
  {
   "cell_type": "code",
   "execution_count": 8,
   "id": "3ffc095c",
   "metadata": {
    "ExecuteTime": {
     "end_time": "2023-06-02T22:26:55.521044Z",
     "start_time": "2023-06-02T22:26:55.495995Z"
    }
   },
   "outputs": [],
   "source": [
    "def initializeVocabulary():\n",
    "    unkToken = '<UNK>'\n",
    "    vocab['t_2_i'] = {}\n",
    "    vocab['i_2_t'] = {}\n",
    "    vocab['unkToken'] = unkToken\n",
    "    idx = addToken(unkToken)\n",
    "    vocab['unkTokenIdx'] = idx"
   ]
  },
  {
   "cell_type": "code",
   "execution_count": 9,
   "id": "4057fd08",
   "metadata": {
    "ExecuteTime": {
     "end_time": "2023-06-02T22:26:55.537019Z",
     "start_time": "2023-06-02T22:26:55.524629Z"
    }
   },
   "outputs": [],
   "source": [
    "def addToken(token):\n",
    "    if token in vocab['t_2_i']:\n",
    "        idx = vocab['t_2_i'][token]\n",
    "        \n",
    "    else:\n",
    "        idx = len(vocab['t_2_i'])\n",
    "        vocab['t_2_i'][token] = idx\n",
    "        vocab['i_2_t'][idx] = token\n",
    "        \n",
    "    return idx"
   ]
  },
  {
   "cell_type": "code",
   "execution_count": 10,
   "id": "84e5bf7b",
   "metadata": {
    "ExecuteTime": {
     "end_time": "2023-06-02T22:26:55.546164Z",
     "start_time": "2023-06-02T22:26:55.540324Z"
    }
   },
   "outputs": [],
   "source": [
    "def addManyTokens(tokens):\n",
    "    \n",
    "    idxes = [ addToken(token) for token in tokens]\n",
    "    return idxes"
   ]
  },
  {
   "cell_type": "code",
   "execution_count": 11,
   "id": "40bb4cb1",
   "metadata": {
    "ExecuteTime": {
     "end_time": "2023-06-02T22:26:55.571265Z",
     "start_time": "2023-06-02T22:26:55.546783Z"
    }
   },
   "outputs": [],
   "source": [
    "def lookUpToken(token):\n",
    "    if vocab['unkTokenIdx']>=0:\n",
    "        return vocab['t_2_i'].get(token, vocab['unkTokenIdx'])\n",
    "    \n",
    "    else:\n",
    "        return vocab['t_2_i'][token]"
   ]
  },
  {
   "cell_type": "code",
   "execution_count": 12,
   "id": "00eaae66",
   "metadata": {
    "ExecuteTime": {
     "end_time": "2023-06-02T22:26:55.587816Z",
     "start_time": "2023-06-02T22:26:55.574363Z"
    }
   },
   "outputs": [],
   "source": [
    "def lookUpIndex(idx):\n",
    "    if idx not in vocab['i_2_t']:\n",
    "        raise KeyError(\"The index (%d) is not there\" %idx)\n",
    "    return vocab['i_2_t'][idx]\n",
    "    "
   ]
  },
  {
   "cell_type": "code",
   "execution_count": 13,
   "id": "f8633291",
   "metadata": {
    "ExecuteTime": {
     "end_time": "2023-06-02T22:26:55.612445Z",
     "start_time": "2023-06-02T22:26:55.588613Z"
    }
   },
   "outputs": [],
   "source": [
    "def vocabularyFromDataFrame(df, cutoff = 25):\n",
    "    initializeVocabulary()\n",
    "    wordCounts = Counter()\n",
    "    for r in df.review:\n",
    "        for word in re.split('\\W+', r):\n",
    "            wordCounts[word] +=1\n",
    "            \n",
    "    for word, count in wordCounts.items():\n",
    "        if count > cutoff:\n",
    "            addToken(word)"
   ]
  },
  {
   "cell_type": "code",
   "execution_count": 14,
   "id": "68817c48",
   "metadata": {
    "ExecuteTime": {
     "end_time": "2023-06-02T22:26:55.637012Z",
     "start_time": "2023-06-02T22:26:55.615627Z"
    }
   },
   "outputs": [],
   "source": [
    "def vocabularyFromCorpus(corpus, cutoff = 25):\n",
    "    initializeVocabulary()\n",
    "    wordCounts = Counter()\n",
    "    for doc in Corpus:\n",
    "        for word in re.split('\\W+', doc):\n",
    "            wordCounts[word] +=1\n",
    "            \n",
    "    for word, count in wordCounts.items():\n",
    "        if count > cutoff:\n",
    "            addToken(word)"
   ]
  },
  {
   "cell_type": "code",
   "execution_count": 15,
   "id": "6a3c1289",
   "metadata": {
    "ExecuteTime": {
     "end_time": "2023-06-02T22:27:05.389313Z",
     "start_time": "2023-06-02T22:26:55.637012Z"
    }
   },
   "outputs": [],
   "source": [
    "Corpus = np.array(df['review'])\n",
    "vocabularyFromCorpus(Corpus)"
   ]
  },
  {
   "cell_type": "code",
   "execution_count": 16,
   "id": "10644430",
   "metadata": {
    "ExecuteTime": {
     "end_time": "2023-06-02T22:27:05.404948Z",
     "start_time": "2023-06-02T22:27:05.394386Z"
    }
   },
   "outputs": [],
   "source": [
    "def oneHotVector(token, n):\n",
    "    oneHot = np.zeros((n,1))\n",
    "    oneHot[lookUpToken(token)] = 1\n",
    "    \n",
    "    return oneHot"
   ]
  },
  {
   "cell_type": "code",
   "execution_count": 17,
   "id": "1acfe51d",
   "metadata": {
    "ExecuteTime": {
     "end_time": "2023-06-02T22:27:05.437352Z",
     "start_time": "2023-06-02T22:27:05.408210Z"
    }
   },
   "outputs": [],
   "source": [
    "n = len(vocab['t_2_i'])\n",
    "\n",
    "token = 'the'\n",
    "oneHot = oneHotVector(token, n)"
   ]
  },
  {
   "cell_type": "code",
   "execution_count": 24,
   "id": "7af066a9",
   "metadata": {
    "ExecuteTime": {
     "end_time": "2023-06-02T22:29:09.835071Z",
     "start_time": "2023-06-02T22:29:09.809427Z"
    }
   },
   "outputs": [],
   "source": [
    "def computeFeatures(doc, N):\n",
    "    isFirst = True\n",
    "    for token in doc:\n",
    "        oneHot = oneHotVector(token, N)\n",
    "        if isFirst:\n",
    "            xF = oneHot\n",
    "            isFirst = False\n",
    "        else:\n",
    "            xF = np.hstack((xF, oneHot))\n",
    "    return np.mean(xF, axis=1)[:, np.newaxis]"
   ]
  },
  {
   "cell_type": "code",
   "execution_count": 45,
   "id": "37c16109",
   "metadata": {
    "ExecuteTime": {
     "end_time": "2023-06-02T22:53:31.381861Z",
     "start_time": "2023-06-02T22:53:31.361544Z"
    }
   },
   "outputs": [],
   "source": [
    "def computeFeaturesVectorize(doc, N):\n",
    "    fv = np.zeros(N)\n",
    "    numTokens = 0\n",
    "    for token in doc:\n",
    "        fv[lookUpToken(token)] += 1\n",
    "        numTokens += 1\n",
    "    return fv/numTokens\n"
   ]
  },
  {
   "cell_type": "code",
   "execution_count": 42,
   "id": "8b33bf7d",
   "metadata": {
    "ExecuteTime": {
     "end_time": "2023-06-02T22:52:51.977194Z",
     "start_time": "2023-06-02T22:52:51.946642Z"
    }
   },
   "outputs": [],
   "source": [
    "def corpusToFeatureMatrix(Corpus, n):\n",
    "    isFirst = True\n",
    "    for doc in Corpus:\n",
    "        fv = computeFeatures(doc, N)\n",
    "        if isFirst:\n",
    "            fM = fv\n",
    "            isFirst = False\n",
    "        else:\n",
    "            fM = np.hstack((fM, fv))\n",
    "    return fM.T"
   ]
  },
  {
   "cell_type": "code",
   "execution_count": 43,
   "id": "14ff8a7b",
   "metadata": {
    "ExecuteTime": {
     "end_time": "2023-06-02T22:52:52.103828Z",
     "start_time": "2023-06-02T22:52:52.089696Z"
    }
   },
   "outputs": [],
   "source": [
    "def corpusToFeatureMatrixVectorize(Corpus, n):\n",
    "    fM = np.zeros((n, len(Corpus)))\n",
    "    i = 0\n",
    "    for doc in Corpus:\n",
    "        fM[:,i] = computeFeatureVectorize(doc, n)\n",
    "        i+=1\n",
    "    return fM.T"
   ]
  },
  {
   "cell_type": "code",
   "execution_count": 47,
   "id": "c7fa79e2",
   "metadata": {
    "ExecuteTime": {
     "end_time": "2023-06-02T22:53:44.325001Z",
     "start_time": "2023-06-02T22:53:38.018441Z"
    }
   },
   "outputs": [],
   "source": [
    "fv = computeFeatures(Corpus[0], n) # 6s "
   ]
  },
  {
   "cell_type": "code",
   "execution_count": 48,
   "id": "f492413a",
   "metadata": {
    "ExecuteTime": {
     "end_time": "2023-06-02T22:53:46.333963Z",
     "start_time": "2023-06-02T22:53:46.318494Z"
    }
   },
   "outputs": [],
   "source": [
    "fv = computeFeaturesVectorize(Corpus[0], n) # 15ms"
   ]
  },
  {
   "cell_type": "code",
   "execution_count": 26,
   "id": "673a0e0d",
   "metadata": {
    "ExecuteTime": {
     "end_time": "2023-06-02T22:29:17.202955Z",
     "start_time": "2023-06-02T22:29:17.171691Z"
    }
   },
   "outputs": [
    {
     "data": {
      "text/plain": [
       "(8946, 1)"
      ]
     },
     "execution_count": 26,
     "metadata": {},
     "output_type": "execute_result"
    }
   ],
   "source": [
    "fv.shape"
   ]
  },
  {
   "cell_type": "code",
   "execution_count": 27,
   "id": "2c2f93db",
   "metadata": {
    "ExecuteTime": {
     "end_time": "2023-06-02T22:31:34.879357Z",
     "start_time": "2023-06-02T22:31:28.499149Z"
    }
   },
   "outputs": [],
   "source": [
    "df = pd.read_excel('./data/reviews 1.xlsx')\n",
    "X = np.array(df['review'])\n",
    "y = np.array(df['rating'])"
   ]
  },
  {
   "cell_type": "code",
   "execution_count": 28,
   "id": "17876e29",
   "metadata": {
    "ExecuteTime": {
     "end_time": "2023-06-02T22:31:40.307837Z",
     "start_time": "2023-06-02T22:31:40.283163Z"
    }
   },
   "outputs": [],
   "source": [
    "from sklearn.model_selection import train_test_splitin_test_split"
   ]
  },
  {
   "cell_type": "code",
   "execution_count": 29,
   "id": "00e68361",
   "metadata": {
    "ExecuteTime": {
     "end_time": "2023-06-02T22:32:08.911866Z",
     "start_time": "2023-06-02T22:32:08.876335Z"
    }
   },
   "outputs": [],
   "source": [
    "X_train, X_test, y_train, y_test = train_test_split(X, y, test_size=0.3, shuffle=True)"
   ]
  },
  {
   "cell_type": "code",
   "execution_count": 32,
   "id": "ff02d8aa",
   "metadata": {
    "ExecuteTime": {
     "end_time": "2023-06-02T22:33:23.038913Z",
     "start_time": "2023-06-02T22:33:13.928889Z"
    }
   },
   "outputs": [],
   "source": [
    "vocab = {}\n",
    "vocabularyFromCorpus(X_train)"
   ]
  },
  {
   "cell_type": "code",
   "execution_count": 36,
   "id": "d7b0e8e0",
   "metadata": {
    "ExecuteTime": {
     "end_time": "2023-06-02T22:38:50.831820Z",
     "start_time": "2023-06-02T22:38:50.815967Z"
    }
   },
   "outputs": [],
   "source": [
    "n = len(vocab['t_2_i'])"
   ]
  },
  {
   "cell_type": "code",
   "execution_count": 49,
   "id": "7e22155d",
   "metadata": {
    "ExecuteTime": {
     "end_time": "2023-06-02T22:54:55.962716Z",
     "start_time": "2023-06-02T22:54:09.749498Z"
    }
   },
   "outputs": [],
   "source": [
    "X_train_feature_matrix = corpusToFeatureMatrixVectorize(X_train, n) "
   ]
  },
  {
   "cell_type": "code",
   "execution_count": 50,
   "id": "5bffa4cf",
   "metadata": {
    "ExecuteTime": {
     "end_time": "2023-06-02T22:55:20.252574Z",
     "start_time": "2023-06-02T22:54:55.967725Z"
    }
   },
   "outputs": [],
   "source": [
    "X_test_feature_matrix = corpusToFeatureMatrixVectorize(X_test, n) "
   ]
  },
  {
   "cell_type": "code",
   "execution_count": 68,
   "id": "b8fe477f",
   "metadata": {
    "ExecuteTime": {
     "end_time": "2023-06-02T23:57:04.017361Z",
     "start_time": "2023-06-02T23:57:04.000279Z"
    }
   },
   "outputs": [],
   "source": [
    "from sklearn.linear_model import LogisticRegression as LR\n",
    "from sklearn.metrics import confusion_matrix, f1_score\n",
    "import seaborn as sns\n",
    "from matplotlib import pyplot as plt\n",
    "sns.set()"
   ]
  },
  {
   "cell_type": "code",
   "execution_count": 58,
   "id": "e2c8cbfc",
   "metadata": {
    "ExecuteTime": {
     "end_time": "2023-06-02T23:52:08.149146Z",
     "start_time": "2023-06-02T23:51:55.089162Z"
    }
   },
   "outputs": [],
   "source": [
    "model = LR().fit(X_train_feature_matrix, y_train)"
   ]
  },
  {
   "cell_type": "code",
   "execution_count": 60,
   "id": "bb851634",
   "metadata": {
    "ExecuteTime": {
     "end_time": "2023-06-02T23:52:34.511375Z",
     "start_time": "2023-06-02T23:52:34.155131Z"
    }
   },
   "outputs": [],
   "source": [
    "y_pred = model.predict(X_test_feature_matrix)"
   ]
  },
  {
   "cell_type": "code",
   "execution_count": 67,
   "id": "30df72df",
   "metadata": {
    "ExecuteTime": {
     "end_time": "2023-06-02T23:55:45.678895Z",
     "start_time": "2023-06-02T23:55:45.462300Z"
    }
   },
   "outputs": [
    {
     "data": {
      "text/plain": [
       "[]"
      ]
     },
     "execution_count": 67,
     "metadata": {},
     "output_type": "execute_result"
    },
    {
     "data": {
      "image/png": "[encoded data removed]",
      "text/plain": [
       "<Figure size 640x480 with 1 Axes>"
      ]
     },
     "metadata": {},
     "output_type": "display_data"
    }
   ],
   "source": [
    "\n",
    "cm = confusion_matrix(y_test, y_pred)\n",
    "sns.heatmap(cm.T, square = True, annot=True, fmt = 'd', cbar=False,\n",
    "           xticklabels= np.unique(y), yticklabels=np.unique(y))\n",
    "plt.xlabel('True Label')\n",
    "plt.ylabel('Pred Label')\n",
    "plt.plot()"
   ]
  },
  {
   "cell_type": "code",
   "execution_count": 73,
   "id": "ebc701f1",
   "metadata": {
    "ExecuteTime": {
     "end_time": "2023-06-02T23:59:27.810531Z",
     "start_time": "2023-06-02T23:59:27.804553Z"
    }
   },
   "outputs": [],
   "source": [
    "y_test_n = np.where(y_test == 'positive', 1, 0)\n",
    "y_pred_n = np.where(y_pred == 'positive', 1, 0)"
   ]
  },
  {
   "cell_type": "code",
   "execution_count": 74,
   "id": "8bb340d9",
   "metadata": {
    "ExecuteTime": {
     "end_time": "2023-06-02T23:59:32.329414Z",
     "start_time": "2023-06-02T23:59:32.314478Z"
    }
   },
   "outputs": [
    {
     "data": {
      "text/plain": [
       "0.6487646373612901"
      ]
     },
     "execution_count": 74,
     "metadata": {},
     "output_type": "execute_result"
    }
   ],
   "source": [
    "f1_score(y_test_n, y_pred_n)"
   ]
  },
  {
   "cell_type": "markdown",
   "id": "a7da38e2",
   "metadata": {},
   "source": [
    "### Testing another model"
   ]
  },
  {
   "cell_type": "code",
   "execution_count": 77,
   "id": "71ba8c97",
   "metadata": {
    "ExecuteTime": {
     "end_time": "2023-06-03T00:02:16.669629Z",
     "start_time": "2023-06-03T00:02:15.609911Z"
    }
   },
   "outputs": [],
   "source": [
    "from lightgbm import LGBMClassifier"
   ]
  },
  {
   "cell_type": "code",
   "execution_count": 78,
   "id": "dbcfb3ec",
   "metadata": {
    "ExecuteTime": {
     "end_time": "2023-06-03T00:02:53.743514Z",
     "start_time": "2023-06-03T00:02:42.768631Z"
    }
   },
   "outputs": [
    {
     "name": "stdout",
     "output_type": "stream",
     "text": [
      "Pontuação F1: 0.6712868921018044\n"
     ]
    }
   ],
   "source": [
    "\n",
    "# Cria o modelo LGBMClassifier\n",
    "model = LGBMClassifier()\n",
    "\n",
    "# Treina o modelo usando X_train_feature_matrix e y_train\n",
    "model.fit(X_train_feature_matrix, y_train)\n",
    "\n",
    "# Realiza a previsão usando X_test_feature_matrix\n",
    "y_pred = model.predict(X_test_feature_matrix)\n",
    "y_pred_n = np.where(y_pred == 'positive', 1, 0)\n",
    "\n",
    "# Calcula a pontuação F1\n",
    "f1 = f1_score(y_test_n, y_pred_n)\n",
    "\n",
    "print(\"Pontuação F1:\", f1)\n"
   ]
  },
  {
   "cell_type": "code",
   "execution_count": null,
   "id": "009d931a",
   "metadata": {},
   "outputs": [],
   "source": []
  }
 ],
 "metadata": {
  "kernelspec": {
   "display_name": "Python 3 (ipykernel)",
   "language": "python",
   "name": "python3"
  },
  "language_info": {
   "codemirror_mode": {
    "name": "ipython",
    "version": 3
   },
   "file_extension": ".py",
   "mimetype": "text/x-python",
   "name": "python",
   "nbconvert_exporter": "python",
   "pygments_lexer": "ipython3",
   "version": "3.9.13"
  }
 },
 "nbformat": 4,
 "nbformat_minor": 5
}
