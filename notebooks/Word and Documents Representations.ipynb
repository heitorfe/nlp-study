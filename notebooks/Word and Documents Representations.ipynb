{
 "cells": [
  {
   "cell_type": "code",
   "execution_count": 1,
   "id": "cffddae9",
   "metadata": {
    "ExecuteTime": {
     "end_time": "2023-06-06T13:21:39.628255Z",
     "start_time": "2023-06-06T13:21:32.829646Z"
    }
   },
   "outputs": [],
   "source": [
    "import spacy\n",
    "import numpy as np\n",
    "nlp = spacy.load('en_core_web_sm')"
   ]
  },
  {
   "cell_type": "code",
   "execution_count": 2,
   "id": "b77eee14",
   "metadata": {
    "ExecuteTime": {
     "end_time": "2023-06-06T13:21:43.333891Z",
     "start_time": "2023-06-06T13:21:43.307935Z"
    }
   },
   "outputs": [],
   "source": [
    "L = list(nlp.vocab.strings)"
   ]
  },
  {
   "cell_type": "code",
   "execution_count": 3,
   "id": "73f2b30f",
   "metadata": {
    "ExecuteTime": {
     "end_time": "2023-06-06T13:22:07.321484Z",
     "start_time": "2023-06-06T13:22:07.312314Z"
    }
   },
   "outputs": [
    {
     "name": "stdout",
     "output_type": "stream",
     "text": [
      "84780\n"
     ]
    }
   ],
   "source": [
    "numWords = len(L)\n",
    "print(numWords)"
   ]
  },
  {
   "cell_type": "code",
   "execution_count": 7,
   "id": "2b4ca5b5",
   "metadata": {
    "ExecuteTime": {
     "end_time": "2023-06-06T13:23:24.810163Z",
     "start_time": "2023-06-06T13:23:24.789811Z"
    }
   },
   "outputs": [],
   "source": [
    "w_2_i_mappings = dict(zip(L, np.arange(numWords)))\n",
    "i_2_w_mappings = dict(zip(np.arange(numWords), L))"
   ]
  },
  {
   "cell_type": "markdown",
   "id": "57229220",
   "metadata": {},
   "source": [
    "### Creating One Hot Vector for words"
   ]
  },
  {
   "cell_type": "code",
   "execution_count": 13,
   "id": "9eb389db",
   "metadata": {
    "ExecuteTime": {
     "end_time": "2023-06-06T13:26:26.803726Z",
     "start_time": "2023-06-06T13:26:26.793210Z"
    }
   },
   "outputs": [],
   "source": [
    "def oneHotVector(word, W2I, numWords):\n",
    "    oneHotVector = np.zeros(numWords, dtype= int)\n",
    "    oneHotVector[w_2_i_mappings[word]] = 1   \n",
    "    return oneHotVector\n",
    "    f"
   ]
  },
  {
   "cell_type": "code",
   "execution_count": 14,
   "id": "59dddb12",
   "metadata": {
    "ExecuteTime": {
     "end_time": "2023-06-06T13:26:27.224411Z",
     "start_time": "2023-06-06T13:26:27.210882Z"
    }
   },
   "outputs": [],
   "source": [
    "v = oneHotVector('game', w_2_i_mappings, numWords)"
   ]
  },
  {
   "cell_type": "markdown",
   "id": "860f8b4b",
   "metadata": {},
   "source": [
    "## Term Frequency for Document Representations Implementations"
   ]
  },
  {
   "cell_type": "code",
   "execution_count": 17,
   "id": "cc285097",
   "metadata": {
    "ExecuteTime": {
     "end_time": "2023-06-06T13:38:58.379327Z",
     "start_time": "2023-06-06T13:38:58.362170Z"
    }
   },
   "outputs": [],
   "source": [
    "doc = 'How are you today? I know most of the time how you feel?'\n",
    "tokens = [token.text for token in nlp(doc) ]"
   ]
  },
  {
   "cell_type": "code",
   "execution_count": 20,
   "id": "75617737",
   "metadata": {
    "ExecuteTime": {
     "end_time": "2023-06-06T13:40:02.444815Z",
     "start_time": "2023-06-06T13:40:02.426430Z"
    }
   },
   "outputs": [],
   "source": [
    "v = np.zeros(numWords)\n",
    "for token in tokens:\n",
    "    v += oneHotVector(token, w_2_i_mappings, numWords)"
   ]
  },
  {
   "cell_type": "code",
   "execution_count": 23,
   "id": "0e712a3a",
   "metadata": {
    "ExecuteTime": {
     "end_time": "2023-06-06T13:40:40.955441Z",
     "start_time": "2023-06-06T13:40:40.945766Z"
    }
   },
   "outputs": [
    {
     "data": {
      "text/plain": [
       "2.0"
      ]
     },
     "execution_count": 23,
     "metadata": {},
     "output_type": "execute_result"
    }
   ],
   "source": [
    "v[w_2_i_mappings['?']]"
   ]
  },
  {
   "cell_type": "markdown",
   "id": "7d481dbb",
   "metadata": {},
   "source": [
    "### TFIDF for Document Representations Implementation Reading Corpus"
   ]
  },
  {
   "cell_type": "code",
   "execution_count": 24,
   "id": "9d66f6d3",
   "metadata": {
    "ExecuteTime": {
     "end_time": "2023-06-06T14:21:20.461082Z",
     "start_time": "2023-06-06T14:21:20.453295Z"
    }
   },
   "outputs": [],
   "source": [
    "from sklearn.datasets import fetch_20newsgroups as getData"
   ]
  },
  {
   "cell_type": "code",
   "execution_count": 25,
   "id": "95e03251",
   "metadata": {
    "ExecuteTime": {
     "end_time": "2023-06-06T14:22:14.453110Z",
     "start_time": "2023-06-06T14:22:14.168414Z"
    }
   },
   "outputs": [],
   "source": [
    "corpus = getData(subset = 'train', remove =('headers', 'footers', 'qoutes'))"
   ]
  },
  {
   "cell_type": "code",
   "execution_count": 26,
   "id": "3d2eec2f",
   "metadata": {
    "ExecuteTime": {
     "end_time": "2023-06-06T14:22:25.107592Z",
     "start_time": "2023-06-06T14:22:25.102074Z"
    }
   },
   "outputs": [],
   "source": [
    "docs = corpus.data\n"
   ]
  },
  {
   "cell_type": "code",
   "execution_count": 28,
   "id": "d9fb4f76",
   "metadata": {
    "ExecuteTime": {
     "end_time": "2023-06-06T14:22:41.699054Z",
     "start_time": "2023-06-06T14:22:41.694923Z"
    }
   },
   "outputs": [
    {
     "data": {
      "text/plain": [
       "11314"
      ]
     },
     "execution_count": 28,
     "metadata": {},
     "output_type": "execute_result"
    }
   ],
   "source": [
    "len(docs)"
   ]
  },
  {
   "cell_type": "code",
   "execution_count": 29,
   "id": "b3570b3c",
   "metadata": {
    "ExecuteTime": {
     "end_time": "2023-06-06T14:22:49.493011Z",
     "start_time": "2023-06-06T14:22:49.487762Z"
    }
   },
   "outputs": [
    {
     "name": "stdout",
     "output_type": "stream",
     "text": [
      "I was wondering if anyone out there could enlighten me on this car I saw\n",
      "the other day. It was a 2-door sports car, looked to be from the late 60s/\n",
      "early 70s. It was called a Bricklin. The doors were really small. In addition,\n",
      "the front bumper was separate from the rest of the body. This is \n",
      "all I know. If anyone can tellme a model name, engine specs, years\n",
      "of production, where this car is made, history, or whatever info you\n",
      "have on this funky looking car, please e-mail.\n"
     ]
    }
   ],
   "source": [
    "print(docs[0])"
   ]
  },
  {
   "cell_type": "code",
   "execution_count": 32,
   "id": "08e6bbf3",
   "metadata": {
    "ExecuteTime": {
     "end_time": "2023-06-06T14:28:58.868310Z",
     "start_time": "2023-06-06T14:28:37.977145Z"
    }
   },
   "outputs": [],
   "source": [
    "document_frequency = np.zeros(numWords)\n",
    "\n",
    "for term in L:\n",
    "    document_frequency_term = 0\n",
    "    for doc in docs[:100]:\n",
    "        if term in doc:\n",
    "            document_frequency_term += 1\n",
    "    document_frequency[w_2_i_mappings[term]] = document_frequency_term\n",
    "    "
   ]
  },
  {
   "cell_type": "code",
   "execution_count": 34,
   "id": "370a655f",
   "metadata": {
    "ExecuteTime": {
     "end_time": "2023-06-06T14:30:43.935714Z",
     "start_time": "2023-06-06T14:30:43.922402Z"
    }
   },
   "outputs": [],
   "source": [
    "N = 100"
   ]
  },
  {
   "cell_type": "code",
   "execution_count": 38,
   "id": "eb1e0b97",
   "metadata": {
    "ExecuteTime": {
     "end_time": "2023-06-06T14:31:50.827757Z",
     "start_time": "2023-06-06T14:31:50.804045Z"
    }
   },
   "outputs": [],
   "source": [
    "Idf = np.log10(N/(document_frequency+1))"
   ]
  },
  {
   "cell_type": "code",
   "execution_count": 58,
   "id": "23eb2b12",
   "metadata": {
    "ExecuteTime": {
     "end_time": "2023-06-06T14:35:02.348268Z",
     "start_time": "2023-06-06T14:35:02.319876Z"
    }
   },
   "outputs": [],
   "source": [
    "doc =  'How are you today? I am fine'\n",
    "v = np.zeros(numWords)\n",
    "for token in nlp(doc):\n",
    "    v = oneHotVector(token.text, w_2_i_mappings, numWords)"
   ]
  },
  {
   "cell_type": "code",
   "execution_count": 59,
   "id": "05c70f77",
   "metadata": {
    "ExecuteTime": {
     "end_time": "2023-06-06T14:35:38.212956Z",
     "start_time": "2023-06-06T14:35:38.197139Z"
    }
   },
   "outputs": [
    {
     "data": {
      "text/plain": [
       "array([0., 0., 0., ..., 0., 0., 0.])"
      ]
     },
     "execution_count": 59,
     "metadata": {},
     "output_type": "execute_result"
    }
   ],
   "source": [
    "tf = np.log10(v+1)\n",
    "tfidf = tf*Idf\n",
    "tfidf"
   ]
  },
  {
   "cell_type": "code",
   "execution_count": 61,
   "id": "6ec6bbd2",
   "metadata": {
    "ExecuteTime": {
     "end_time": "2023-06-06T14:36:01.215638Z",
     "start_time": "2023-06-06T14:36:01.197178Z"
    }
   },
   "outputs": [
    {
     "data": {
      "text/plain": [
       "1"
      ]
     },
     "execution_count": 61,
     "metadata": {},
     "output_type": "execute_result"
    }
   ],
   "source": [
    "np.sum(tfidf != 0)"
   ]
  },
  {
   "cell_type": "code",
   "execution_count": 64,
   "id": "cc5600d3",
   "metadata": {
    "ExecuteTime": {
     "end_time": "2023-06-06T14:42:19.114958Z",
     "start_time": "2023-06-06T14:42:19.098968Z"
    }
   },
   "outputs": [],
   "source": [
    "from sklearn.datasets import fetch_20newsgroups as getData\n",
    "from sklearn.feature_extraction.text import CountVectorizer, TfidfTransformer\n",
    "from sklearn.naive_bayes import GaussianNB as NB"
   ]
  },
  {
   "cell_type": "code",
   "execution_count": 65,
   "id": "49eaaee9",
   "metadata": {
    "ExecuteTime": {
     "end_time": "2023-06-06T14:46:30.795115Z",
     "start_time": "2023-06-06T14:46:30.773283Z"
    }
   },
   "outputs": [],
   "source": [
    "def loadCorpus():\n",
    "    corpus = getData(subset = 'train', \n",
    "                     remove = ('headers', 'footers', 'quotes'),\n",
    "                    categories = ['alt.atheism',\n",
    "                                 'comp.graphics',\n",
    "                                 'soc.religion.christian'])\n",
    "    return corpus"
   ]
  },
  {
   "cell_type": "code",
   "execution_count": 66,
   "id": "fdd58df5",
   "metadata": {
    "ExecuteTime": {
     "end_time": "2023-06-06T14:46:38.247724Z",
     "start_time": "2023-06-06T14:46:35.439890Z"
    }
   },
   "outputs": [],
   "source": [
    "corpus = loadCorpus()"
   ]
  },
  {
   "cell_type": "code",
   "execution_count": 69,
   "id": "aa4c82ef",
   "metadata": {
    "ExecuteTime": {
     "end_time": "2023-06-06T14:50:00.617940Z",
     "start_time": "2023-06-06T14:50:00.607578Z"
    }
   },
   "outputs": [],
   "source": [
    "def buildTFIDModel(docs):\n",
    "    \n",
    "    cv = CountVectorizer()\n",
    "    ct = cv.fit(docs)\n",
    "    counts = ct.transform(docs)\n",
    "    \n",
    "    tfidf = TfidfTransformer().fit(counts)\n",
    "    return ct, tfidf"
   ]
  },
  {
   "cell_type": "code",
   "execution_count": 70,
   "id": "4691cd10",
   "metadata": {
    "ExecuteTime": {
     "end_time": "2023-06-06T14:50:02.131824Z",
     "start_time": "2023-06-06T14:50:00.938463Z"
    }
   },
   "outputs": [],
   "source": [
    "ct, tfidf = buildTFIDModel(corpus.data)"
   ]
  },
  {
   "cell_type": "code",
   "execution_count": 73,
   "id": "cc39cdff",
   "metadata": {
    "ExecuteTime": {
     "end_time": "2023-06-06T14:51:58.061239Z",
     "start_time": "2023-06-06T14:51:58.037184Z"
    }
   },
   "outputs": [],
   "source": [
    "def computeTFIDFFeatures(docs, ct, tfidf):\n",
    "    counts = ct.transform(docs)\n",
    "    xF = tfidf.transform(counts)\n",
    "    return xF.toarray()"
   ]
  },
  {
   "cell_type": "code",
   "execution_count": 74,
   "id": "86c9646d",
   "metadata": {
    "ExecuteTime": {
     "end_time": "2023-06-06T14:52:12.430451Z",
     "start_time": "2023-06-06T14:52:11.835295Z"
    }
   },
   "outputs": [],
   "source": [
    "xF = computeTFIDFFeatures(corpus.data, ct, tfidf)"
   ]
  },
  {
   "cell_type": "code",
   "execution_count": 80,
   "id": "9457fb14",
   "metadata": {
    "ExecuteTime": {
     "end_time": "2023-06-06T15:04:12.783946Z",
     "start_time": "2023-06-06T15:04:12.764440Z"
    }
   },
   "outputs": [],
   "source": [
    "docs_new = ['God loves everyone',\n",
    "           'OpenGL works fast',\n",
    "           'No one is there']\n",
    "\n",
    "xF_new = computeTFIDFFeatures(docs_new, ct, tfidf)"
   ]
  },
  {
   "cell_type": "code",
   "execution_count": 84,
   "id": "f248994c",
   "metadata": {
    "ExecuteTime": {
     "end_time": "2023-06-06T15:04:59.837947Z",
     "start_time": "2023-06-06T15:04:58.967657Z"
    }
   },
   "outputs": [],
   "source": [
    "clf = NB().fit(xF, corpus.target)"
   ]
  },
  {
   "cell_type": "code",
   "execution_count": 88,
   "id": "2361050f",
   "metadata": {
    "ExecuteTime": {
     "end_time": "2023-06-06T15:05:15.659661Z",
     "start_time": "2023-06-06T15:05:15.636497Z"
    }
   },
   "outputs": [],
   "source": [
    "predicted = clf.predict(xF_new)"
   ]
  },
  {
   "cell_type": "code",
   "execution_count": 92,
   "id": "ba58c053",
   "metadata": {
    "ExecuteTime": {
     "end_time": "2023-06-06T15:06:08.959042Z",
     "start_time": "2023-06-06T15:06:08.937156Z"
    }
   },
   "outputs": [
    {
     "name": "stdout",
     "output_type": "stream",
     "text": [
      "alt.atheism\n"
     ]
    }
   ],
   "source": [
    "print(corpus.target_names[predicted[2]])"
   ]
  }
 ],
 "metadata": {
  "kernelspec": {
   "display_name": "Python 3 (ipykernel)",
   "language": "python",
   "name": "python3"
  },
  "language_info": {
   "codemirror_mode": {
    "name": "ipython",
    "version": 3
   },
   "file_extension": ".py",
   "mimetype": "text/x-python",
   "name": "python",
   "nbconvert_exporter": "python",
   "pygments_lexer": "ipython3",
   "version": "3.9.13"
  }
 },
 "nbformat": 4,
 "nbformat_minor": 5
}
