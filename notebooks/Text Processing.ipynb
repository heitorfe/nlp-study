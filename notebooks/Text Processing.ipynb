{
 "cells": [
  {
   "cell_type": "code",
   "execution_count": 21,
   "id": "373e896c",
   "metadata": {
    "ExecuteTime": {
     "end_time": "2023-06-06T08:38:27.582874Z",
     "start_time": "2023-06-06T08:38:10.807335Z"
    }
   },
   "outputs": [
    {
     "name": "stdout",
     "output_type": "stream",
     "text": [
      "He he True\n",
      "is be True\n",
      "reading read False\n",
      "books book False\n",
      "with with True\n",
      "other other True\n",
      "students student False\n",
      "while while True\n",
      "eating eat False\n",
      "meal meal False\n",
      ". . False\n"
     ]
    }
   ],
   "source": [
    "import spacy\n",
    "\n",
    "nlp = spacy.load('en_core_web_sm')\n",
    "\n",
    "proc = nlp('He is reading books with other students while eating meal.')\n",
    "\n",
    "for token in proc:\n",
    "    print(token.text, token.lemma_, token.is_stop)"
   ]
  },
  {
   "cell_type": "code",
   "execution_count": 7,
   "id": "bab0a497",
   "metadata": {
    "ExecuteTime": {
     "end_time": "2023-06-04T13:49:48.567222Z",
     "start_time": "2023-06-04T13:49:48.528433Z"
    }
   },
   "outputs": [
    {
     "name": "stdout",
     "output_type": "stream",
     "text": [
      "This is the first sentence.\n",
      "However, all the other Ph.D. students are working on, say, second sentence.\n"
     ]
    }
   ],
   "source": [
    "txt = 'This is the first sentence. However, all the other Ph.D. students are working on, say, second sentence.'\n",
    "\n",
    "proc = nlp(txt)\n",
    "\n",
    "for s in proc.sents:\n",
    "    print(s.text)"
   ]
  },
  {
   "cell_type": "code",
   "execution_count": 2,
   "id": "12a54e65",
   "metadata": {
    "ExecuteTime": {
     "end_time": "2023-06-06T08:25:05.755906Z",
     "start_time": "2023-06-06T08:25:05.494229Z"
    }
   },
   "outputs": [],
   "source": [
    "import numpy as np"
   ]
  },
  {
   "cell_type": "code",
   "execution_count": 14,
   "id": "ca9e2ec8",
   "metadata": {
    "ExecuteTime": {
     "end_time": "2023-06-06T08:33:30.963414Z",
     "start_time": "2023-06-06T08:33:30.947879Z"
    }
   },
   "outputs": [],
   "source": [
    "def computeMED(X, Y, delCost = 1, insCost=1, subCost=2):\n",
    "    M = len(X) + 1\n",
    "    N = len(Y) + 1\n",
    "    D = np.zeros((M, N))\n",
    "    for i in range(M):\n",
    "        D[i,0] = i*delCost\n",
    "    for j in range(N):\n",
    "        D[0,j] = j*insCost\n",
    "    for i in range(1,M):\n",
    "        for j in range(1,N):\n",
    "            afterDel = D[i-1,j] + delCost\n",
    "            afterIns = D[i,j-1] + insCost\n",
    "            if X[i- 1] == Y[j-1]:\n",
    "                afterSub = D[i-1, j-1] + 0\n",
    "            else:\n",
    "                afterSub = D[i-1, j-1] + subCost\n",
    "            D[i,j] = min(afterDel, afterIns, afterSub)\n",
    "    return D[M-1, N-1]"
   ]
  },
  {
   "cell_type": "code",
   "execution_count": 17,
   "id": "447fceb1",
   "metadata": {
    "ExecuteTime": {
     "end_time": "2023-06-06T08:33:44.463084Z",
     "start_time": "2023-06-06T08:33:44.440871Z"
    }
   },
   "outputs": [
    {
     "name": "stdout",
     "output_type": "stream",
     "text": [
      "8.0\n"
     ]
    }
   ],
   "source": [
    "X = 'INTENTION'\n",
    "Y = 'EXECUTION'\n",
    "\n",
    "print(computeMED(X, Y))"
   ]
  },
  {
   "cell_type": "code",
   "execution_count": 19,
   "id": "539ded44",
   "metadata": {
    "ExecuteTime": {
     "end_time": "2023-06-06T08:37:51.212078Z",
     "start_time": "2023-06-06T08:37:51.192200Z"
    }
   },
   "outputs": [],
   "source": [
    "import editdistance"
   ]
  },
  {
   "cell_type": "code",
   "execution_count": 22,
   "id": "f1ce77d7",
   "metadata": {
    "ExecuteTime": {
     "end_time": "2023-06-06T08:38:30.908582Z",
     "start_time": "2023-06-06T08:38:30.868400Z"
    }
   },
   "outputs": [],
   "source": [
    "L = list(nlp.vocab.strings)"
   ]
  },
  {
   "cell_type": "code",
   "execution_count": 26,
   "id": "f172c55d",
   "metadata": {
    "ExecuteTime": {
     "end_time": "2023-06-06T09:00:35.292097Z",
     "start_time": "2023-06-06T09:00:35.269171Z"
    }
   },
   "outputs": [],
   "source": [
    "def correctSpellings(word, L):\n",
    "    MED = [editdistance.eval(word, L[i]) for i in range(len(L))]\n",
    "    return L[np.argmin(MED)]"
   ]
  },
  {
   "cell_type": "code",
   "execution_count": 29,
   "id": "c5c15cfc",
   "metadata": {
    "ExecuteTime": {
     "end_time": "2023-06-06T09:00:56.992694Z",
     "start_time": "2023-06-06T09:00:51.368135Z"
    }
   },
   "outputs": [
    {
     "name": "stdout",
     "output_type": "stream",
     "text": [
      "Type a word here: hightf\n",
      "You have typed:  hightf\n",
      "The correct word is:  Eight\n"
     ]
    }
   ],
   "source": [
    "word = input('Type a word here: ')\n",
    "print('You have typed: ', word)\n",
    "print('The correct word is: ', correctSpellings(word, L))"
   ]
  },
  {
   "cell_type": "code",
   "execution_count": null,
   "id": "cc6be69d",
   "metadata": {},
   "outputs": [],
   "source": []
  }
 ],
 "metadata": {
  "kernelspec": {
   "display_name": "Python 3 (ipykernel)",
   "language": "python",
   "name": "python3"
  },
  "language_info": {
   "codemirror_mode": {
    "name": "ipython",
    "version": 3
   },
   "file_extension": ".py",
   "mimetype": "text/x-python",
   "name": "python",
   "nbconvert_exporter": "python",
   "pygments_lexer": "ipython3",
   "version": "3.9.13"
  }
 },
 "nbformat": 4,
 "nbformat_minor": 5
}
