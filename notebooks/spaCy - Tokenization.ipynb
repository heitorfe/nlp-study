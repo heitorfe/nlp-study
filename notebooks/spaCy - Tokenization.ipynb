{
 "cells": [
  {
   "cell_type": "code",
   "execution_count": 2,
   "id": "5a0a2888",
   "metadata": {
    "ExecuteTime": {
     "end_time": "2023-06-02T11:20:51.135236Z",
     "start_time": "2023-06-02T11:20:40.946317Z"
    }
   },
   "outputs": [],
   "source": [
    "import spacy \n",
    "import re"
   ]
  },
  {
   "cell_type": "code",
   "execution_count": 10,
   "id": "badb214b",
   "metadata": {
    "ExecuteTime": {
     "end_time": "2023-06-02T11:24:57.072457Z",
     "start_time": "2023-06-02T11:24:56.625718Z"
    }
   },
   "outputs": [],
   "source": [
    "nlp = spacy.load(\"en_core_web_sm\")"
   ]
  },
  {
   "cell_type": "markdown",
   "id": "33e96f6b",
   "metadata": {},
   "source": [
    "### doc1"
   ]
  },
  {
   "cell_type": "code",
   "execution_count": 25,
   "id": "07123cf5",
   "metadata": {
    "ExecuteTime": {
     "end_time": "2023-06-02T11:30:03.892357Z",
     "start_time": "2023-06-02T11:30:03.872012Z"
    }
   },
   "outputs": [
    {
     "name": "stdout",
     "output_type": "stream",
     "text": [
      "I\n",
      "always\n",
      "uh\n",
      "do\n",
      "the\n",
      "main\n",
      "um\n",
      "processing\n",
      ",\n",
      "I\n",
      "mean\n",
      ",\n",
      "the\n",
      "uh\n",
      "um\n",
      "data\n",
      "-\n",
      "processing\n",
      ".\n"
     ]
    }
   ],
   "source": [
    "doc = 'I always uh do the main um processing, I mean, the uh um data-processing.'\n",
    "stats = nlp(doc)\n",
    "for token in stats:\n",
    "    print(token.text)"
   ]
  },
  {
   "cell_type": "code",
   "execution_count": 26,
   "id": "88507ec9",
   "metadata": {
    "ExecuteTime": {
     "end_time": "2023-06-02T11:30:04.047889Z",
     "start_time": "2023-06-02T11:30:04.032457Z"
    }
   },
   "outputs": [
    {
     "name": "stdout",
     "output_type": "stream",
     "text": [
      "I\n",
      "always\n",
      "uh\n",
      "do\n",
      "the\n",
      "main\n",
      "um\n",
      "processing\n",
      "I\n",
      "mean\n",
      "the\n",
      "uh\n",
      "um\n",
      "data\n",
      "processing\n",
      "\n"
     ]
    }
   ],
   "source": [
    "for token in re.split('\\W+', doc):\n",
    "    print(token)"
   ]
  },
  {
   "cell_type": "markdown",
   "id": "b5fad20a",
   "metadata": {},
   "source": [
    "### doc2"
   ]
  },
  {
   "cell_type": "code",
   "execution_count": 20,
   "id": "6c68c9a9",
   "metadata": {
    "ExecuteTime": {
     "end_time": "2023-06-02T11:28:42.703515Z",
     "start_time": "2023-06-02T11:28:42.676888Z"
    }
   },
   "outputs": [
    {
     "name": "stdout",
     "output_type": "stream",
     "text": [
      "U.K.\n",
      "has\n",
      "a\n",
      "reasonable\n",
      "population\n"
     ]
    }
   ],
   "source": [
    "doc2 = 'U.K. has a reasonable population'\n",
    "stats = nlp(doc2)\n",
    "for token in stats:\n",
    "    print(token.text)"
   ]
  },
  {
   "cell_type": "code",
   "execution_count": 27,
   "id": "0fd0d16c",
   "metadata": {
    "ExecuteTime": {
     "end_time": "2023-06-02T11:30:20.651296Z",
     "start_time": "2023-06-02T11:30:20.646240Z"
    }
   },
   "outputs": [
    {
     "name": "stdout",
     "output_type": "stream",
     "text": [
      "U\n",
      "K\n",
      "has\n",
      "a\n",
      "reasonable\n",
      "population\n"
     ]
    }
   ],
   "source": [
    "for token in re.split('\\W+', doc2):\n",
    "    print(token)"
   ]
  },
  {
   "cell_type": "code",
   "execution_count": 28,
   "id": "30d27e33",
   "metadata": {
    "ExecuteTime": {
     "end_time": "2023-06-02T11:53:32.274292Z",
     "start_time": "2023-06-02T11:53:32.243096Z"
    }
   },
   "outputs": [],
   "source": [
    "L = list(nlp.vocab.strings)"
   ]
  },
  {
   "cell_type": "code",
   "execution_count": 29,
   "id": "6b3f6086",
   "metadata": {
    "ExecuteTime": {
     "end_time": "2023-06-02T11:53:34.451572Z",
     "start_time": "2023-06-02T11:53:34.429068Z"
    }
   },
   "outputs": [
    {
     "data": {
      "text/plain": [
       "84780"
      ]
     },
     "execution_count": 29,
     "metadata": {},
     "output_type": "execute_result"
    }
   ],
   "source": [
    "len(L)"
   ]
  },
  {
   "cell_type": "code",
   "execution_count": 36,
   "id": "4a095057",
   "metadata": {
    "ExecuteTime": {
     "end_time": "2023-06-02T11:54:43.206807Z",
     "start_time": "2023-06-02T11:54:43.195661Z"
    }
   },
   "outputs": [
    {
     "data": {
      "text/plain": [
       "'699'"
      ]
     },
     "execution_count": 36,
     "metadata": {},
     "output_type": "execute_result"
    }
   ],
   "source": [
    "L[-80000]"
   ]
  },
  {
   "cell_type": "code",
   "execution_count": null,
   "id": "3d929570",
   "metadata": {},
   "outputs": [],
   "source": []
  }
 ],
 "metadata": {
  "kernelspec": {
   "display_name": "Python 3 (ipykernel)",
   "language": "python",
   "name": "python3"
  },
  "language_info": {
   "codemirror_mode": {
    "name": "ipython",
    "version": 3
   },
   "file_extension": ".py",
   "mimetype": "text/x-python",
   "name": "python",
   "nbconvert_exporter": "python",
   "pygments_lexer": "ipython3",
   "version": "3.9.13"
  }
 },
 "nbformat": 4,
 "nbformat_minor": 5
}
